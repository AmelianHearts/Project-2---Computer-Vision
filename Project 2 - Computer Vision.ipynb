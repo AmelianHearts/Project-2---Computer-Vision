{
 "cells": [
  {
   "cell_type": "code",
   "execution_count": 9,
   "metadata": {},
   "outputs": [
    {
     "name": "stdout",
     "output_type": "stream",
     "text": [
      "^C\n",
      "Note: you may need to restart the kernel to use updated packages.\n",
      "Looking in indexes: https://download.pytorch.org/whl/cu121Note: you may need to restart the kernel to use updated packages.\n",
      "\n",
      "Requirement already satisfied: torch in c:\\users\\izzyj\\appdata\\local\\packages\\pythonsoftwarefoundation.python.3.11_qbz5n2kfra8p0\\localcache\\local-packages\\python311\\site-packages (2.2.1+cu121)\n",
      "Requirement already satisfied: torchvision in c:\\users\\izzyj\\appdata\\local\\packages\\pythonsoftwarefoundation.python.3.11_qbz5n2kfra8p0\\localcache\\local-packages\\python311\\site-packages (0.17.1)\n",
      "Requirement already satisfied: torchaudio in c:\\users\\izzyj\\appdata\\local\\packages\\pythonsoftwarefoundation.python.3.11_qbz5n2kfra8p0\\localcache\\local-packages\\python311\\site-packages (2.2.1+cu121)\n",
      "Requirement already satisfied: filelock in c:\\users\\izzyj\\appdata\\local\\packages\\pythonsoftwarefoundation.python.3.11_qbz5n2kfra8p0\\localcache\\local-packages\\python311\\site-packages (from torch) (3.13.1)\n",
      "Requirement already satisfied: typing-extensions>=4.8.0 in c:\\users\\izzyj\\appdata\\local\\packages\\pythonsoftwarefoundation.python.3.11_qbz5n2kfra8p0\\localcache\\local-packages\\python311\\site-packages (from torch) (4.10.0)\n",
      "Requirement already satisfied: sympy in c:\\users\\izzyj\\appdata\\local\\packages\\pythonsoftwarefoundation.python.3.11_qbz5n2kfra8p0\\localcache\\local-packages\\python311\\site-packages (from torch) (1.12)\n",
      "Requirement already satisfied: networkx in c:\\users\\izzyj\\appdata\\local\\packages\\pythonsoftwarefoundation.python.3.11_qbz5n2kfra8p0\\localcache\\local-packages\\python311\\site-packages (from torch) (3.2.1)\n",
      "Requirement already satisfied: jinja2 in c:\\users\\izzyj\\appdata\\local\\packages\\pythonsoftwarefoundation.python.3.11_qbz5n2kfra8p0\\localcache\\local-packages\\python311\\site-packages (from torch) (3.1.3)\n",
      "Requirement already satisfied: fsspec in c:\\users\\izzyj\\appdata\\local\\packages\\pythonsoftwarefoundation.python.3.11_qbz5n2kfra8p0\\localcache\\local-packages\\python311\\site-packages (from torch) (2024.2.0)\n",
      "Requirement already satisfied: numpy in c:\\users\\izzyj\\appdata\\local\\packages\\pythonsoftwarefoundation.python.3.11_qbz5n2kfra8p0\\localcache\\local-packages\\python311\\site-packages (from torchvision) (1.26.4)\n",
      "Requirement already satisfied: pillow!=8.3.*,>=5.3.0 in c:\\users\\izzyj\\appdata\\local\\packages\\pythonsoftwarefoundation.python.3.11_qbz5n2kfra8p0\\localcache\\local-packages\\python311\\site-packages (from torchvision) (10.2.0)\n",
      "Requirement already satisfied: MarkupSafe>=2.0 in c:\\users\\izzyj\\appdata\\local\\packages\\pythonsoftwarefoundation.python.3.11_qbz5n2kfra8p0\\localcache\\local-packages\\python311\\site-packages (from jinja2->torch) (2.1.5)\n",
      "Requirement already satisfied: mpmath>=0.19 in c:\\users\\izzyj\\appdata\\local\\packages\\pythonsoftwarefoundation.python.3.11_qbz5n2kfra8p0\\localcache\\local-packages\\python311\\site-packages (from sympy->torch) (1.3.0)\n"
     ]
    }
   ],
   "source": [
    "%pip uninstall torch torchvision torchaudio\n",
    "%pip install torch torchvision torchaudio --index-url https://download.pytorch.org/whl/cu121"
   ]
  },
  {
   "cell_type": "code",
   "execution_count": 17,
   "metadata": {},
   "outputs": [
    {
     "name": "stdout",
     "output_type": "stream",
     "text": [
      "Ultralytics YOLOv8.1.26 🚀 Python-3.11.8 torch-2.2.1+cu121 CUDA:0 (NVIDIA GeForce RTX 4060, 8187MiB)\n",
      "Setup complete ✅ (16 CPUs, 63.9 GB RAM, 579.8/930.6 GB disk)\n"
     ]
    }
   ],
   "source": [
    "%pip install ultralytics\n",
    "%pip install torch torchvision torchaudio --index-url https://download.pytorch.org/whl/cu121\n",
    "import ultralytics\n",
    "ultralytics.checks()\n",
    "\n",
    "\n",
    "from ultralytics import YOLO"
   ]
  },
  {
   "cell_type": "code",
   "execution_count": null,
   "metadata": {},
   "outputs": [
    {
     "data": {
      "text/plain": [
       "tensor([0.], device='cuda:0')"
      ]
     },
     "execution_count": 40,
     "metadata": {},
     "output_type": "execute_result"
    },
    {
     "name": "stderr",
     "output_type": "stream",
     "text": [
      "\u001b[1;38;5;196mCOMET ERROR:\u001b[0m CUDA_VISIBLE_DEVICES contains value of invalid or unsupported format: -1\n",
      "\u001b[1;38;5;196mCOMET ERROR:\u001b[0m Invalid device identifier. Next identifiers won't be parsed.\n",
      "\u001b[1;38;5;196mCOMET ERROR:\u001b[0m CUDA_VISIBLE_DEVICES contains value of invalid or unsupported format: -1\n",
      "\u001b[1;38;5;196mCOMET ERROR:\u001b[0m Invalid device identifier. Next identifiers won't be parsed.\n",
      "\u001b[1;38;5;196mCOMET ERROR:\u001b[0m CUDA_VISIBLE_DEVICES contains value of invalid or unsupported format: -1\n",
      "\u001b[1;38;5;196mCOMET ERROR:\u001b[0m Invalid device identifier. Next identifiers won't be parsed.\n"
     ]
    }
   ],
   "source": [
    "import torch\n",
    "torch.cuda.is_available()\n",
    "torch.cuda.set_device(0)\n",
    "torch.zeros(1).cuda()"
   ]
  },
  {
   "cell_type": "code",
   "execution_count": 2,
   "metadata": {},
   "outputs": [
    {
     "name": "stdout",
     "output_type": "stream",
     "text": [
      "Looking in indexes: https://download.pytorch.org/whl/nightly/cu121\n",
      "Requirement already satisfied: torch in c:\\users\\izzyj\\appdata\\local\\packages\\pythonsoftwarefoundation.python.3.11_qbz5n2kfra8p0\\localcache\\local-packages\\python311\\site-packages (2.2.1+cu121)\n",
      "Requirement already satisfied: torchvision in c:\\users\\izzyj\\appdata\\local\\packages\\pythonsoftwarefoundation.python.3.11_qbz5n2kfra8p0\\localcache\\local-packages\\python311\\site-packages (0.17.1)\n",
      "Requirement already satisfied: torchaudio in c:\\users\\izzyj\\appdata\\local\\packages\\pythonsoftwarefoundation.python.3.11_qbz5n2kfra8p0\\localcache\\local-packages\\python311\\site-packages (2.2.1+cu121)\n",
      "Requirement already satisfied: filelock in c:\\users\\izzyj\\appdata\\local\\packages\\pythonsoftwarefoundation.python.3.11_qbz5n2kfra8p0\\localcache\\local-packages\\python311\\site-packages (from torch) (3.13.1)\n",
      "Requirement already satisfied: typing-extensions>=4.8.0 in c:\\users\\izzyj\\appdata\\local\\packages\\pythonsoftwarefoundation.python.3.11_qbz5n2kfra8p0\\localcache\\local-packages\\python311\\site-packages (from torch) (4.10.0)\n",
      "Requirement already satisfied: sympy in c:\\users\\izzyj\\appdata\\local\\packages\\pythonsoftwarefoundation.python.3.11_qbz5n2kfra8p0\\localcache\\local-packages\\python311\\site-packages (from torch) (1.12)\n",
      "Requirement already satisfied: networkx in c:\\users\\izzyj\\appdata\\local\\packages\\pythonsoftwarefoundation.python.3.11_qbz5n2kfra8p0\\localcache\\local-packages\\python311\\site-packages (from torch) (3.2.1)\n",
      "Requirement already satisfied: jinja2 in c:\\users\\izzyj\\appdata\\local\\packages\\pythonsoftwarefoundation.python.3.11_qbz5n2kfra8p0\\localcache\\local-packages\\python311\\site-packages (from torch) (3.1.3)\n",
      "Requirement already satisfied: fsspec in c:\\users\\izzyj\\appdata\\local\\packages\\pythonsoftwarefoundation.python.3.11_qbz5n2kfra8p0\\localcache\\local-packages\\python311\\site-packages (from torch) (2024.2.0)\n",
      "Requirement already satisfied: numpy in c:\\users\\izzyj\\appdata\\local\\packages\\pythonsoftwarefoundation.python.3.11_qbz5n2kfra8p0\\localcache\\local-packages\\python311\\site-packages (from torchvision) (1.26.4)\n",
      "Requirement already satisfied: pillow!=8.3.*,>=5.3.0 in c:\\users\\izzyj\\appdata\\local\\packages\\pythonsoftwarefoundation.python.3.11_qbz5n2kfra8p0\\localcache\\local-packages\\python311\\site-packages (from torchvision) (10.2.0)\n",
      "Requirement already satisfied: MarkupSafe>=2.0 in c:\\users\\izzyj\\appdata\\local\\packages\\pythonsoftwarefoundation.python.3.11_qbz5n2kfra8p0\\localcache\\local-packages\\python311\\site-packages (from jinja2->torch) (2.1.5)\n",
      "Requirement already satisfied: mpmath>=0.19 in c:\\users\\izzyj\\appdata\\local\\packages\\pythonsoftwarefoundation.python.3.11_qbz5n2kfra8p0\\localcache\\local-packages\\python311\\site-packages (from sympy->torch) (1.3.0)\n",
      "Note: you may need to restart the kernel to use updated packages.\n"
     ]
    }
   ],
   "source": [
    "%pip install --pre torch torchvision torchaudio --index-url https://download.pytorch.org/whl/nightly/cu121"
   ]
  },
  {
   "cell_type": "code",
   "execution_count": 26,
   "metadata": {},
   "outputs": [
    {
     "name": "stdout",
     "output_type": "stream",
     "text": [
      "Note: you may need to restart the kernel to use updated packages.\n"
     ]
    }
   ],
   "source": [
    "#@title Select YOLOv8 🚀 logger {run: 'auto'}\n",
    "logger = 'Comet' #@param ['Comet', 'TensorBoard']\n",
    "\n",
    "if logger == 'Comet':\n",
    "  %pip install -q comet_ml\n",
    "  import comet_ml; comet_ml.init()\n",
    "elif logger == 'TensorBoard':\n",
    "  %load_ext tensorboard\n",
    "  %tensorboard --logdir ."
   ]
  },
  {
   "cell_type": "code",
   "execution_count": 3,
   "metadata": {},
   "outputs": [
    {
     "name": "stdout",
     "output_type": "stream",
     "text": [
      "c:\\Users\\izzyj\\Documents\\Uni documents\\IAT 481\\Project 2 - Computer Vision\n"
     ]
    },
    {
     "name": "stderr",
     "output_type": "stream",
     "text": [
      "C:\\Users\\izzyj\\AppData\\Local\\Packages\\PythonSoftwareFoundation.Python.3.11_qbz5n2kfra8p0\\LocalCache\\local-packages\\Python311\\site-packages\\IPython\\core\\magics\\osm.py:417: UserWarning: This is now an optional IPython functionality, setting dhist requires you to install the `pickleshare` library.\n",
      "  self.shell.db['dhist'] = compress_dhist(dhist)[-100:]\n"
     ]
    }
   ],
   "source": [
    "%cd \"c:\\Users\\izzyj\\Documents\\Uni documents\\IAT 481\\Project 2 - Computer Vision\""
   ]
  },
  {
   "cell_type": "code",
   "execution_count": 49,
   "metadata": {},
   "outputs": [
    {
     "name": "stdout",
     "output_type": "stream",
     "text": [
      "Ultralytics YOLOv8.1.26 🚀 Python-3.11.8 torch-2.2.1+cu121 CPU (AMD Ryzen 7 5700X 8-Core Processor)\n",
      "\u001b[34m\u001b[1mengine\\trainer: \u001b[0mtask=detect, mode=train, model=yolov8n.pt, data=data.yaml, epochs=10, time=None, patience=100, batch=16, imgsz=640, save=True, save_period=-1, cache=False, device=cpu, workers=8, project=None, name=train22, exist_ok=False, pretrained=True, optimizer=auto, verbose=True, seed=0, deterministic=True, single_cls=False, rect=False, cos_lr=False, close_mosaic=10, resume=False, amp=True, fraction=1.0, profile=False, freeze=None, multi_scale=False, overlap_mask=True, mask_ratio=4, dropout=0.0, val=True, split=val, save_json=False, save_hybrid=False, conf=None, iou=0.7, max_det=300, half=False, dnn=False, plots=True, source=None, vid_stride=1, stream_buffer=False, visualize=False, augment=False, agnostic_nms=False, classes=None, retina_masks=False, embed=None, show=False, save_frames=False, save_txt=False, save_conf=False, save_crop=False, show_labels=True, show_conf=True, show_boxes=True, line_width=None, format=torchscript, keras=False, optimize=False, int8=False, dynamic=False, simplify=False, opset=None, workspace=4, nms=False, lr0=0.01, lrf=0.01, momentum=0.937, weight_decay=0.0005, warmup_epochs=3.0, warmup_momentum=0.8, warmup_bias_lr=0.1, box=7.5, cls=0.5, dfl=1.5, pose=12.0, kobj=1.0, label_smoothing=0.0, nbs=64, hsv_h=0.015, hsv_s=0.7, hsv_v=0.4, degrees=0.0, translate=0.1, scale=0.5, shear=0.0, perspective=0.0, flipud=0.0, fliplr=0.5, mosaic=1.0, mixup=0.0, copy_paste=0.0, auto_augment=randaugment, erasing=0.4, crop_fraction=1.0, cfg=None, tracker=botsort.yaml, save_dir=runs\\detect\\train22\n",
      "Overriding model.yaml nc=80 with nc=1\n",
      "\n",
      "                   from  n    params  module                                       arguments                     \n",
      "  0                  -1  1       464  ultralytics.nn.modules.conv.Conv             [3, 16, 3, 2]                 \n",
      "  1                  -1  1      4672  ultralytics.nn.modules.conv.Conv             [16, 32, 3, 2]                \n",
      "  2                  -1  1      7360  ultralytics.nn.modules.block.C2f             [32, 32, 1, True]             \n",
      "  3                  -1  1     18560  ultralytics.nn.modules.conv.Conv             [32, 64, 3, 2]                \n",
      "  4                  -1  2     49664  ultralytics.nn.modules.block.C2f             [64, 64, 2, True]             \n",
      "  5                  -1  1     73984  ultralytics.nn.modules.conv.Conv             [64, 128, 3, 2]               \n",
      "  6                  -1  2    197632  ultralytics.nn.modules.block.C2f             [128, 128, 2, True]           \n",
      "  7                  -1  1    295424  ultralytics.nn.modules.conv.Conv             [128, 256, 3, 2]              \n",
      "  8                  -1  1    460288  ultralytics.nn.modules.block.C2f             [256, 256, 1, True]           \n",
      "  9                  -1  1    164608  ultralytics.nn.modules.block.SPPF            [256, 256, 5]                 \n",
      " 10                  -1  1         0  torch.nn.modules.upsampling.Upsample         [None, 2, 'nearest']          \n",
      " 11             [-1, 6]  1         0  ultralytics.nn.modules.conv.Concat           [1]                           \n",
      " 12                  -1  1    148224  ultralytics.nn.modules.block.C2f             [384, 128, 1]                 \n",
      " 13                  -1  1         0  torch.nn.modules.upsampling.Upsample         [None, 2, 'nearest']          \n",
      " 14             [-1, 4]  1         0  ultralytics.nn.modules.conv.Concat           [1]                           \n",
      " 15                  -1  1     37248  ultralytics.nn.modules.block.C2f             [192, 64, 1]                  \n",
      " 16                  -1  1     36992  ultralytics.nn.modules.conv.Conv             [64, 64, 3, 2]                \n",
      " 17            [-1, 12]  1         0  ultralytics.nn.modules.conv.Concat           [1]                           \n",
      " 18                  -1  1    123648  ultralytics.nn.modules.block.C2f             [192, 128, 1]                 \n",
      " 19                  -1  1    147712  ultralytics.nn.modules.conv.Conv             [128, 128, 3, 2]              \n",
      " 20             [-1, 9]  1         0  ultralytics.nn.modules.conv.Concat           [1]                           \n",
      " 21                  -1  1    493056  ultralytics.nn.modules.block.C2f             [384, 256, 1]                 \n",
      " 22        [15, 18, 21]  1    751507  ultralytics.nn.modules.head.Detect           [1, [64, 128, 256]]           \n",
      "Model summary: 225 layers, 3011043 parameters, 3011027 gradients, 8.2 GFLOPs\n",
      "\n",
      "Transferred 319/355 items from pretrained weights\n"
     ]
    },
    {
     "name": "stderr",
     "output_type": "stream",
     "text": [
      "\u001b[1;38;5;214mCOMET WARNING:\u001b[0m To get all data logged automatically, import comet_ml before the following modules: torch.\n",
      "\u001b[1;38;5;214mCOMET WARNING:\u001b[0m As you are running in a Jupyter environment, you will need to call `experiment.end()` when finished to ensure all metrics and code are logged before exiting.\n",
      "\u001b[1;38;5;196mCOMET ERROR:\u001b[0m CUDA_VISIBLE_DEVICES contains value of invalid or unsupported format: -1\n",
      "\u001b[1;38;5;196mCOMET ERROR:\u001b[0m Invalid device identifier. Next identifiers won't be parsed.\n",
      "\u001b[1;38;5;39mCOMET INFO:\u001b[0m Couldn't find a Git repository in 'c:\\\\Users\\\\izzyj\\\\Documents\\\\Uni documents\\\\IAT 481\\\\Project 2 - Computer Vision' nor in any parent directory. Set `COMET_GIT_DIRECTORY` if your Git Repository is elsewhere.\n",
      "\u001b[1;38;5;39mCOMET INFO:\u001b[0m Experiment is live on comet.com https://www.comet.com/amelianhearts/general/957fd8a7f3924b079174507941cbf34f\n",
      "\n"
     ]
    },
    {
     "name": "stdout",
     "output_type": "stream",
     "text": [
      "Freezing layer 'model.22.dfl.conv.weight'\n"
     ]
    },
    {
     "name": "stderr",
     "output_type": "stream",
     "text": [
      "\u001b[34m\u001b[1mtrain: \u001b[0mScanning C:\\Users\\izzyj\\Downloads\\datasets\\train\\labels.cache... 4090 images, 1 backgrounds, 0 corrupt: 100%|██████████| 4091/4091 [00:00<?, ?it/s]\n",
      "\u001b[34m\u001b[1mval: \u001b[0mScanning C:\\Users\\izzyj\\Downloads\\datasets\\valid\\labels.cache... 400 images, 0 backgrounds, 0 corrupt: 100%|██████████| 400/400 [00:00<?, ?it/s]"
     ]
    },
    {
     "name": "stdout",
     "output_type": "stream",
     "text": [
      "Plotting labels to runs\\detect\\train22\\labels.jpg... \n"
     ]
    },
    {
     "name": "stderr",
     "output_type": "stream",
     "text": [
      "\n"
     ]
    },
    {
     "name": "stdout",
     "output_type": "stream",
     "text": [
      "\u001b[34m\u001b[1moptimizer:\u001b[0m 'optimizer=auto' found, ignoring 'lr0=0.01' and 'momentum=0.937' and determining best 'optimizer', 'lr0' and 'momentum' automatically... \n",
      "\u001b[34m\u001b[1moptimizer:\u001b[0m AdamW(lr=0.002, momentum=0.9) with parameter groups 57 weight(decay=0.0), 64 weight(decay=0.0005), 63 bias(decay=0.0)\n",
      "Image sizes 640 train, 640 val\n",
      "Using 0 dataloader workers\n",
      "Logging results to \u001b[1mruns\\detect\\train22\u001b[0m\n",
      "Starting training for 10 epochs...\n",
      "Closing dataloader mosaic\n",
      "\n",
      "      Epoch    GPU_mem   box_loss   cls_loss   dfl_loss  Instances       Size\n"
     ]
    },
    {
     "name": "stderr",
     "output_type": "stream",
     "text": [
      "       1/10     0.252G      2.977      6.906      1.581         60        640:   4%|▎         | 9/256 [00:28<12:50,  3.12s/it]\u001b[1;38;5;196mCOMET ERROR:\u001b[0m CUDA_VISIBLE_DEVICES contains value of invalid or unsupported format: -1\n",
      "\u001b[1;38;5;196mCOMET ERROR:\u001b[0m Invalid device identifier. Next identifiers won't be parsed.\n",
      "       1/10     0.252G       2.87      6.296       1.51         47        640:   7%|▋         | 18/256 [00:56<12:31,  3.16s/it]\u001b[1;38;5;196mCOMET ERROR:\u001b[0m CUDA_VISIBLE_DEVICES contains value of invalid or unsupported format: -1\n",
      "\u001b[1;38;5;196mCOMET ERROR:\u001b[0m Invalid device identifier. Next identifiers won't be parsed.\n",
      "       1/10     0.252G      2.795      6.037      1.456         41        640:  11%|█         | 28/256 [01:28<12:06,  3.19s/it]\u001b[1;38;5;196mCOMET ERROR:\u001b[0m CUDA_VISIBLE_DEVICES contains value of invalid or unsupported format: -1\n",
      "\u001b[1;38;5;196mCOMET ERROR:\u001b[0m Invalid device identifier. Next identifiers won't be parsed.\n",
      "       1/10     0.252G      2.765      5.781      1.406         55        640:  15%|█▍        | 38/256 [02:00<12:05,  3.33s/it]\u001b[1;38;5;196mCOMET ERROR:\u001b[0m CUDA_VISIBLE_DEVICES contains value of invalid or unsupported format: -1\n",
      "\u001b[1;38;5;196mCOMET ERROR:\u001b[0m Invalid device identifier. Next identifiers won't be parsed.\n",
      "       1/10     0.252G      2.761      5.608      1.392         39        640:  19%|█▉        | 48/256 [02:32<11:13,  3.24s/it]\u001b[1;38;5;196mCOMET ERROR:\u001b[0m CUDA_VISIBLE_DEVICES contains value of invalid or unsupported format: -1\n",
      "\u001b[1;38;5;196mCOMET ERROR:\u001b[0m Invalid device identifier. Next identifiers won't be parsed.\n",
      "       1/10     0.252G      2.705      5.325      1.366         36        640:  23%|██▎       | 58/256 [03:04<10:25,  3.16s/it]\u001b[1;38;5;196mCOMET ERROR:\u001b[0m CUDA_VISIBLE_DEVICES contains value of invalid or unsupported format: -1\n",
      "\u001b[1;38;5;196mCOMET ERROR:\u001b[0m Invalid device identifier. Next identifiers won't be parsed.\n",
      "       1/10     0.252G      2.675       5.13      1.345         45        640:  26%|██▌       | 67/256 [03:33<09:58,  3.17s/it]\u001b[1;38;5;196mCOMET ERROR:\u001b[0m CUDA_VISIBLE_DEVICES contains value of invalid or unsupported format: -1\n",
      "\u001b[1;38;5;196mCOMET ERROR:\u001b[0m Invalid device identifier. Next identifiers won't be parsed.\n",
      "       1/10     0.252G      2.641      4.949      1.329         44        640:  30%|███       | 77/256 [04:05<09:25,  3.16s/it]\u001b[1;38;5;196mCOMET ERROR:\u001b[0m CUDA_VISIBLE_DEVICES contains value of invalid or unsupported format: -1\n",
      "\u001b[1;38;5;196mCOMET ERROR:\u001b[0m Invalid device identifier. Next identifiers won't be parsed.\n",
      "       1/10     0.252G      2.634      4.786      1.316         36        640:  34%|███▍      | 87/256 [04:36<09:03,  3.21s/it]\u001b[1;38;5;196mCOMET ERROR:\u001b[0m CUDA_VISIBLE_DEVICES contains value of invalid or unsupported format: -1\n",
      "\u001b[1;38;5;196mCOMET ERROR:\u001b[0m Invalid device identifier. Next identifiers won't be parsed.\n",
      "       1/10     0.252G      2.611       4.63      1.304         47        640:  38%|███▊      | 97/256 [05:08<08:20,  3.15s/it]\u001b[1;38;5;196mCOMET ERROR:\u001b[0m CUDA_VISIBLE_DEVICES contains value of invalid or unsupported format: -1\n",
      "\u001b[1;38;5;196mCOMET ERROR:\u001b[0m Invalid device identifier. Next identifiers won't be parsed.\n",
      "       1/10     0.252G      2.586      4.509      1.295         54        640:  42%|████▏     | 107/256 [05:40<07:51,  3.17s/it]\u001b[1;38;5;196mCOMET ERROR:\u001b[0m CUDA_VISIBLE_DEVICES contains value of invalid or unsupported format: -1\n",
      "\u001b[1;38;5;196mCOMET ERROR:\u001b[0m Invalid device identifier. Next identifiers won't be parsed.\n",
      "       1/10     0.252G      2.581       4.42      1.289         42        640:  45%|████▌     | 116/256 [06:08<07:20,  3.14s/it]\u001b[1;38;5;196mCOMET ERROR:\u001b[0m CUDA_VISIBLE_DEVICES contains value of invalid or unsupported format: -1\n",
      "\u001b[1;38;5;196mCOMET ERROR:\u001b[0m Invalid device identifier. Next identifiers won't be parsed.\n",
      "       1/10     0.252G      2.579      4.347      1.288         37        640:  49%|████▉     | 126/256 [06:40<06:49,  3.15s/it]\u001b[1;38;5;196mCOMET ERROR:\u001b[0m CUDA_VISIBLE_DEVICES contains value of invalid or unsupported format: -1\n",
      "\u001b[1;38;5;196mCOMET ERROR:\u001b[0m Invalid device identifier. Next identifiers won't be parsed.\n",
      "       1/10     0.252G      2.572      4.272      1.282         56        640:  53%|█████▎    | 136/256 [07:11<06:10,  3.09s/it]\u001b[1;38;5;196mCOMET ERROR:\u001b[0m CUDA_VISIBLE_DEVICES contains value of invalid or unsupported format: -1\n",
      "\u001b[1;38;5;196mCOMET ERROR:\u001b[0m Invalid device identifier. Next identifiers won't be parsed.\n",
      "       1/10     0.252G      2.568       4.18      1.282         52        640:  57%|█████▋    | 147/256 [07:45<05:35,  3.08s/it]\u001b[1;38;5;196mCOMET ERROR:\u001b[0m CUDA_VISIBLE_DEVICES contains value of invalid or unsupported format: -1\n",
      "\u001b[1;38;5;196mCOMET ERROR:\u001b[0m Invalid device identifier. Next identifiers won't be parsed.\n",
      "       1/10     0.252G      2.564      4.112      1.279         62        640:  61%|██████    | 156/256 [08:13<05:21,  3.22s/it]\u001b[1;38;5;196mCOMET ERROR:\u001b[0m CUDA_VISIBLE_DEVICES contains value of invalid or unsupported format: -1\n",
      "\u001b[1;38;5;196mCOMET ERROR:\u001b[0m Invalid device identifier. Next identifiers won't be parsed.\n",
      "       1/10     0.252G      2.548      4.038      1.276         46        640:  65%|██████▍   | 166/256 [08:45<04:44,  3.16s/it]\u001b[1;38;5;196mCOMET ERROR:\u001b[0m CUDA_VISIBLE_DEVICES contains value of invalid or unsupported format: -1\n",
      "\u001b[1;38;5;196mCOMET ERROR:\u001b[0m Invalid device identifier. Next identifiers won't be parsed.\n",
      "       1/10     0.252G      2.542      3.978      1.272         44        640:  69%|██████▉   | 176/256 [09:17<04:13,  3.17s/it]\u001b[1;38;5;196mCOMET ERROR:\u001b[0m CUDA_VISIBLE_DEVICES contains value of invalid or unsupported format: -1\n",
      "\u001b[1;38;5;196mCOMET ERROR:\u001b[0m Invalid device identifier. Next identifiers won't be parsed.\n",
      "       1/10     0.252G      2.546       3.95      1.269         54        640:  73%|███████▎  | 186/256 [09:49<03:41,  3.17s/it]\u001b[1;38;5;196mCOMET ERROR:\u001b[0m CUDA_VISIBLE_DEVICES contains value of invalid or unsupported format: -1\n",
      "\u001b[1;38;5;196mCOMET ERROR:\u001b[0m Invalid device identifier. Next identifiers won't be parsed.\n",
      "       1/10     0.252G      2.544      3.902      1.265         49        640:  77%|███████▋  | 196/256 [10:20<03:09,  3.16s/it]\u001b[1;38;5;196mCOMET ERROR:\u001b[0m CUDA_VISIBLE_DEVICES contains value of invalid or unsupported format: -1\n",
      "\u001b[1;38;5;196mCOMET ERROR:\u001b[0m Invalid device identifier. Next identifiers won't be parsed.\n",
      "       1/10     0.252G      2.539       3.85      1.261         49        640:  80%|████████  | 205/256 [10:49<02:39,  3.13s/it]\u001b[1;38;5;196mCOMET ERROR:\u001b[0m CUDA_VISIBLE_DEVICES contains value of invalid or unsupported format: -1\n",
      "\u001b[1;38;5;196mCOMET ERROR:\u001b[0m Invalid device identifier. Next identifiers won't be parsed.\n",
      "       1/10     0.252G      2.536      3.794      1.259         45        640:  84%|████████▍ | 215/256 [11:20<02:09,  3.15s/it]\u001b[1;38;5;196mCOMET ERROR:\u001b[0m CUDA_VISIBLE_DEVICES contains value of invalid or unsupported format: -1\n",
      "\u001b[1;38;5;196mCOMET ERROR:\u001b[0m Invalid device identifier. Next identifiers won't be parsed.\n",
      "       1/10     0.252G      2.527      3.737      1.258         41        640:  88%|████████▊ | 225/256 [11:52<01:37,  3.14s/it]\u001b[1;38;5;196mCOMET ERROR:\u001b[0m CUDA_VISIBLE_DEVICES contains value of invalid or unsupported format: -1\n",
      "\u001b[1;38;5;196mCOMET ERROR:\u001b[0m Invalid device identifier. Next identifiers won't be parsed.\n",
      "       1/10     0.252G      2.526      3.687      1.257         53        640:  92%|█████████▏| 235/256 [12:23<01:05,  3.10s/it]\u001b[1;38;5;196mCOMET ERROR:\u001b[0m CUDA_VISIBLE_DEVICES contains value of invalid or unsupported format: -1\n",
      "\u001b[1;38;5;196mCOMET ERROR:\u001b[0m Invalid device identifier. Next identifiers won't be parsed.\n",
      "       1/10     0.252G      2.526      3.648      1.256         38        640:  96%|█████████▌| 245/256 [12:54<00:34,  3.15s/it]\u001b[1;38;5;196mCOMET ERROR:\u001b[0m CUDA_VISIBLE_DEVICES contains value of invalid or unsupported format: -1\n",
      "\u001b[1;38;5;196mCOMET ERROR:\u001b[0m Invalid device identifier. Next identifiers won't be parsed.\n",
      "       1/10     0.252G      2.518      3.601      1.254         47        640: 100%|█████████▉| 255/256 [13:26<00:03,  3.14s/it]\u001b[1;38;5;196mCOMET ERROR:\u001b[0m CUDA_VISIBLE_DEVICES contains value of invalid or unsupported format: -1\n",
      "\u001b[1;38;5;196mCOMET ERROR:\u001b[0m Invalid device identifier. Next identifiers won't be parsed.\n",
      "       1/10     0.252G      2.516      3.595      1.254         38        640: 100%|██████████| 256/256 [13:28<00:00,  3.16s/it]\n",
      "                 Class     Images  Instances      Box(P          R      mAP50  mAP50-95): 100%|██████████| 13/13 [00:19<00:00,  1.47s/it]"
     ]
    },
    {
     "name": "stdout",
     "output_type": "stream",
     "text": [
      "                   all        400       1291      0.313      0.186      0.148      0.056\n"
     ]
    },
    {
     "name": "stderr",
     "output_type": "stream",
     "text": [
      "\n"
     ]
    },
    {
     "name": "stdout",
     "output_type": "stream",
     "text": [
      "\n",
      "      Epoch    GPU_mem   box_loss   cls_loss   dfl_loss  Instances       Size\n"
     ]
    },
    {
     "name": "stderr",
     "output_type": "stream",
     "text": [
      "       2/10     0.252G      2.416      2.402      1.282         46        640:   1%|          | 3/256 [00:09<12:58,  3.08s/it]\u001b[1;38;5;196mCOMET ERROR:\u001b[0m CUDA_VISIBLE_DEVICES contains value of invalid or unsupported format: -1\n",
      "\u001b[1;38;5;196mCOMET ERROR:\u001b[0m Invalid device identifier. Next identifiers won't be parsed.\n",
      "       2/10     0.252G      2.363      2.492      1.248         36        640:   5%|▌         | 13/256 [00:40<12:41,  3.13s/it]\u001b[1;38;5;196mCOMET ERROR:\u001b[0m CUDA_VISIBLE_DEVICES contains value of invalid or unsupported format: -1\n",
      "\u001b[1;38;5;196mCOMET ERROR:\u001b[0m Invalid device identifier. Next identifiers won't be parsed.\n",
      "       2/10     0.252G      2.368       2.48      1.237         48        640:   9%|▉         | 23/256 [01:12<12:21,  3.18s/it]\u001b[1;38;5;196mCOMET ERROR:\u001b[0m CUDA_VISIBLE_DEVICES contains value of invalid or unsupported format: -1\n",
      "\u001b[1;38;5;196mCOMET ERROR:\u001b[0m Invalid device identifier. Next identifiers won't be parsed.\n",
      "       2/10     0.252G      2.426      2.528       1.23         55        640:  13%|█▎        | 33/256 [01:43<11:37,  3.13s/it]\u001b[1;38;5;196mCOMET ERROR:\u001b[0m CUDA_VISIBLE_DEVICES contains value of invalid or unsupported format: -1\n",
      "\u001b[1;38;5;196mCOMET ERROR:\u001b[0m Invalid device identifier. Next identifiers won't be parsed.\n",
      "       2/10     0.252G       2.47      2.539      1.242         45        640:  17%|█▋        | 43/256 [02:15<11:18,  3.19s/it]\u001b[1;38;5;196mCOMET ERROR:\u001b[0m CUDA_VISIBLE_DEVICES contains value of invalid or unsupported format: -1\n",
      "\u001b[1;38;5;196mCOMET ERROR:\u001b[0m Invalid device identifier. Next identifiers won't be parsed.\n",
      "       2/10     0.252G      2.445      2.484      1.242         61        640:  20%|██        | 52/256 [02:44<10:47,  3.17s/it]\u001b[1;38;5;196mCOMET ERROR:\u001b[0m CUDA_VISIBLE_DEVICES contains value of invalid or unsupported format: -1\n",
      "\u001b[1;38;5;196mCOMET ERROR:\u001b[0m Invalid device identifier. Next identifiers won't be parsed.\n",
      "       2/10     0.252G      2.443      2.458      1.234         39        640:  24%|██▍       | 62/256 [03:15<10:18,  3.19s/it]\u001b[1;38;5;196mCOMET ERROR:\u001b[0m CUDA_VISIBLE_DEVICES contains value of invalid or unsupported format: -1\n",
      "\u001b[1;38;5;196mCOMET ERROR:\u001b[0m Invalid device identifier. Next identifiers won't be parsed.\n",
      "       2/10     0.252G       2.44      2.416      1.234         50        640:  28%|██▊       | 72/256 [03:48<09:50,  3.21s/it]\u001b[1;38;5;196mCOMET ERROR:\u001b[0m CUDA_VISIBLE_DEVICES contains value of invalid or unsupported format: -1\n",
      "\u001b[1;38;5;196mCOMET ERROR:\u001b[0m Invalid device identifier. Next identifiers won't be parsed.\n",
      "       2/10     0.252G      2.436      2.392      1.228         51        640:  32%|███▏      | 82/256 [04:19<09:08,  3.15s/it]\u001b[1;38;5;196mCOMET ERROR:\u001b[0m CUDA_VISIBLE_DEVICES contains value of invalid or unsupported format: -1\n",
      "\u001b[1;38;5;196mCOMET ERROR:\u001b[0m Invalid device identifier. Next identifiers won't be parsed.\n",
      "       2/10     0.252G      2.426      2.373      1.227         37        640:  36%|███▌      | 92/256 [04:51<08:43,  3.19s/it]\u001b[1;38;5;196mCOMET ERROR:\u001b[0m CUDA_VISIBLE_DEVICES contains value of invalid or unsupported format: -1\n",
      "\u001b[1;38;5;196mCOMET ERROR:\u001b[0m Invalid device identifier. Next identifiers won't be parsed.\n",
      "       2/10     0.252G      2.424      2.358      1.224         52        640:  39%|███▉      | 101/256 [05:20<08:06,  3.14s/it]\u001b[1;38;5;196mCOMET ERROR:\u001b[0m CUDA_VISIBLE_DEVICES contains value of invalid or unsupported format: -1\n",
      "\u001b[1;38;5;196mCOMET ERROR:\u001b[0m Invalid device identifier. Next identifiers won't be parsed.\n",
      "       2/10     0.252G      2.423      2.338      1.223         63        640:  43%|████▎     | 111/256 [05:52<07:38,  3.16s/it]\u001b[1;38;5;196mCOMET ERROR:\u001b[0m CUDA_VISIBLE_DEVICES contains value of invalid or unsupported format: -1\n",
      "\u001b[1;38;5;196mCOMET ERROR:\u001b[0m Invalid device identifier. Next identifiers won't be parsed.\n",
      "       2/10     0.252G      2.426      2.331      1.227         41        640:  47%|████▋     | 121/256 [06:24<07:06,  3.16s/it]\u001b[1;38;5;196mCOMET ERROR:\u001b[0m CUDA_VISIBLE_DEVICES contains value of invalid or unsupported format: -1\n",
      "\u001b[1;38;5;196mCOMET ERROR:\u001b[0m Invalid device identifier. Next identifiers won't be parsed.\n",
      "       2/10     0.252G      2.431      2.323      1.226         63        640:  51%|█████     | 130/256 [06:53<06:46,  3.23s/it]\u001b[1;38;5;196mCOMET ERROR:\u001b[0m CUDA_VISIBLE_DEVICES contains value of invalid or unsupported format: -1\n",
      "\u001b[1;38;5;196mCOMET ERROR:\u001b[0m Invalid device identifier. Next identifiers won't be parsed.\n",
      "       2/10     0.252G       2.44      2.321      1.227         53        640:  55%|█████▍    | 140/256 [07:25<06:08,  3.18s/it]\u001b[1;38;5;196mCOMET ERROR:\u001b[0m CUDA_VISIBLE_DEVICES contains value of invalid or unsupported format: -1\n",
      "\u001b[1;38;5;196mCOMET ERROR:\u001b[0m Invalid device identifier. Next identifiers won't be parsed.\n",
      "       2/10     0.252G       2.44      2.312      1.228         55        640:  59%|█████▊    | 150/256 [07:57<05:35,  3.16s/it]\u001b[1;38;5;196mCOMET ERROR:\u001b[0m CUDA_VISIBLE_DEVICES contains value of invalid or unsupported format: -1\n",
      "\u001b[1;38;5;196mCOMET ERROR:\u001b[0m Invalid device identifier. Next identifiers won't be parsed.\n",
      "       2/10     0.252G      2.434      2.302      1.228         43        640:  62%|██████▎   | 160/256 [08:29<05:01,  3.14s/it]\u001b[1;38;5;196mCOMET ERROR:\u001b[0m CUDA_VISIBLE_DEVICES contains value of invalid or unsupported format: -1\n",
      "\u001b[1;38;5;196mCOMET ERROR:\u001b[0m Invalid device identifier. Next identifiers won't be parsed.\n",
      "       2/10     0.252G      2.433      2.296      1.225         55        640:  66%|██████▋   | 170/256 [09:01<04:31,  3.16s/it]\u001b[1;38;5;196mCOMET ERROR:\u001b[0m CUDA_VISIBLE_DEVICES contains value of invalid or unsupported format: -1\n",
      "\u001b[1;38;5;196mCOMET ERROR:\u001b[0m Invalid device identifier. Next identifiers won't be parsed.\n",
      "       2/10     0.252G      2.423      2.281      1.224         54        640:  70%|██████▉   | 179/256 [09:29<04:02,  3.15s/it]\u001b[1;38;5;196mCOMET ERROR:\u001b[0m CUDA_VISIBLE_DEVICES contains value of invalid or unsupported format: -1\n",
      "\u001b[1;38;5;196mCOMET ERROR:\u001b[0m Invalid device identifier. Next identifiers won't be parsed.\n",
      "       2/10     0.252G      2.418      2.265      1.223         46        640:  74%|███████▍  | 189/256 [10:00<03:29,  3.13s/it]\u001b[1;38;5;196mCOMET ERROR:\u001b[0m CUDA_VISIBLE_DEVICES contains value of invalid or unsupported format: -1\n",
      "\u001b[1;38;5;196mCOMET ERROR:\u001b[0m Invalid device identifier. Next identifiers won't be parsed.\n",
      "       2/10     0.252G      2.419       2.26      1.221         39        640:  78%|███████▊  | 199/256 [10:32<02:59,  3.15s/it]\u001b[1;38;5;196mCOMET ERROR:\u001b[0m CUDA_VISIBLE_DEVICES contains value of invalid or unsupported format: -1\n",
      "\u001b[1;38;5;196mCOMET ERROR:\u001b[0m Invalid device identifier. Next identifiers won't be parsed.\n",
      "       2/10     0.252G      2.418      2.244       1.22         55        640:  82%|████████▏ | 209/256 [11:04<02:29,  3.17s/it]\u001b[1;38;5;196mCOMET ERROR:\u001b[0m CUDA_VISIBLE_DEVICES contains value of invalid or unsupported format: -1\n",
      "\u001b[1;38;5;196mCOMET ERROR:\u001b[0m Invalid device identifier. Next identifiers won't be parsed.\n",
      "       2/10     0.252G      2.416      2.238      1.219         50        640:  86%|████████▌ | 219/256 [11:35<01:56,  3.16s/it]\u001b[1;38;5;196mCOMET ERROR:\u001b[0m CUDA_VISIBLE_DEVICES contains value of invalid or unsupported format: -1\n",
      "\u001b[1;38;5;196mCOMET ERROR:\u001b[0m Invalid device identifier. Next identifiers won't be parsed.\n",
      "       2/10     0.252G      2.412      2.232      1.218         45        640:  89%|████████▉ | 229/256 [12:07<01:27,  3.26s/it]\u001b[1;38;5;196mCOMET ERROR:\u001b[0m CUDA_VISIBLE_DEVICES contains value of invalid or unsupported format: -1\n",
      "\u001b[1;38;5;196mCOMET ERROR:\u001b[0m Invalid device identifier. Next identifiers won't be parsed.\n",
      "       2/10     0.252G       2.41       2.22      1.216         58        640:  93%|█████████▎| 239/256 [12:39<00:53,  3.15s/it]\u001b[1;38;5;196mCOMET ERROR:\u001b[0m CUDA_VISIBLE_DEVICES contains value of invalid or unsupported format: -1\n",
      "\u001b[1;38;5;196mCOMET ERROR:\u001b[0m Invalid device identifier. Next identifiers won't be parsed.\n",
      "       2/10     0.252G      2.411      2.219      1.215         63        640:  97%|█████████▋| 248/256 [13:07<00:25,  3.16s/it]\u001b[1;38;5;196mCOMET ERROR:\u001b[0m CUDA_VISIBLE_DEVICES contains value of invalid or unsupported format: -1\n",
      "\u001b[1;38;5;196mCOMET ERROR:\u001b[0m Invalid device identifier. Next identifiers won't be parsed.\n",
      "       2/10     0.252G      2.413      2.216      1.214         35        640: 100%|██████████| 256/256 [13:32<00:00,  3.17s/it]\n",
      "                 Class     Images  Instances      Box(P          R      mAP50  mAP50-95):  46%|████▌     | 6/13 [00:08<00:09,  1.39s/it]\u001b[1;38;5;196mCOMET ERROR:\u001b[0m CUDA_VISIBLE_DEVICES contains value of invalid or unsupported format: -1\n",
      "\u001b[1;38;5;196mCOMET ERROR:\u001b[0m Invalid device identifier. Next identifiers won't be parsed.\n",
      "                 Class     Images  Instances      Box(P          R      mAP50  mAP50-95): 100%|██████████| 13/13 [00:18<00:00,  1.42s/it]"
     ]
    },
    {
     "name": "stdout",
     "output_type": "stream",
     "text": [
      "                   all        400       1291      0.509      0.316      0.315      0.128\n"
     ]
    },
    {
     "name": "stderr",
     "output_type": "stream",
     "text": [
      "\n"
     ]
    },
    {
     "name": "stdout",
     "output_type": "stream",
     "text": [
      "\n",
      "      Epoch    GPU_mem   box_loss   cls_loss   dfl_loss  Instances       Size\n"
     ]
    },
    {
     "name": "stderr",
     "output_type": "stream",
     "text": [
      "       3/10     0.252G      2.332      1.904      1.159         47        640:   3%|▎         | 7/256 [00:21<12:46,  3.08s/it]\u001b[1;38;5;196mCOMET ERROR:\u001b[0m CUDA_VISIBLE_DEVICES contains value of invalid or unsupported format: -1\n",
      "\u001b[1;38;5;196mCOMET ERROR:\u001b[0m Invalid device identifier. Next identifiers won't be parsed.\n",
      "       3/10     0.252G       2.39      1.979      1.197         44        640:   7%|▋         | 17/256 [00:52<12:30,  3.14s/it]\u001b[1;38;5;196mCOMET ERROR:\u001b[0m CUDA_VISIBLE_DEVICES contains value of invalid or unsupported format: -1\n",
      "\u001b[1;38;5;196mCOMET ERROR:\u001b[0m Invalid device identifier. Next identifiers won't be parsed.\n",
      "       3/10     0.252G      2.369       1.97      1.197         46        640:  11%|█         | 27/256 [01:24<12:01,  3.15s/it]\u001b[1;38;5;196mCOMET ERROR:\u001b[0m CUDA_VISIBLE_DEVICES contains value of invalid or unsupported format: -1\n",
      "\u001b[1;38;5;196mCOMET ERROR:\u001b[0m Invalid device identifier. Next identifiers won't be parsed.\n",
      "       3/10     0.252G      2.372      1.957       1.19         51        640:  14%|█▍        | 36/256 [01:54<12:12,  3.33s/it]\u001b[1;38;5;196mCOMET ERROR:\u001b[0m CUDA_VISIBLE_DEVICES contains value of invalid or unsupported format: -1\n",
      "\u001b[1;38;5;196mCOMET ERROR:\u001b[0m Invalid device identifier. Next identifiers won't be parsed.\n",
      "       3/10     0.252G      2.371      1.968      1.199         34        640:  18%|█▊        | 46/256 [02:25<11:02,  3.15s/it]\u001b[1;38;5;196mCOMET ERROR:\u001b[0m CUDA_VISIBLE_DEVICES contains value of invalid or unsupported format: -1\n",
      "\u001b[1;38;5;196mCOMET ERROR:\u001b[0m Invalid device identifier. Next identifiers won't be parsed.\n",
      "       3/10     0.252G      2.375      1.973      1.199         50        640:  22%|██▏       | 56/256 [02:57<10:31,  3.16s/it]\u001b[1;38;5;196mCOMET ERROR:\u001b[0m CUDA_VISIBLE_DEVICES contains value of invalid or unsupported format: -1\n",
      "\u001b[1;38;5;196mCOMET ERROR:\u001b[0m Invalid device identifier. Next identifiers won't be parsed.\n",
      "       3/10     0.252G      2.368      1.976      1.195         41        640:  25%|██▌       | 65/256 [03:26<10:37,  3.34s/it]\u001b[1;38;5;196mCOMET ERROR:\u001b[0m CUDA_VISIBLE_DEVICES contains value of invalid or unsupported format: -1\n",
      "\u001b[1;38;5;196mCOMET ERROR:\u001b[0m Invalid device identifier. Next identifiers won't be parsed.\n",
      "       3/10     0.252G      2.348      1.947      1.195         46        640:  29%|██▉       | 75/256 [03:58<09:42,  3.22s/it]\u001b[1;38;5;196mCOMET ERROR:\u001b[0m CUDA_VISIBLE_DEVICES contains value of invalid or unsupported format: -1\n",
      "\u001b[1;38;5;196mCOMET ERROR:\u001b[0m Invalid device identifier. Next identifiers won't be parsed.\n",
      "       3/10     0.252G      2.341      1.923      1.192         65        640:  33%|███▎      | 85/256 [04:30<09:01,  3.17s/it]\u001b[1;38;5;196mCOMET ERROR:\u001b[0m CUDA_VISIBLE_DEVICES contains value of invalid or unsupported format: -1\n",
      "\u001b[1;38;5;196mCOMET ERROR:\u001b[0m Invalid device identifier. Next identifiers won't be parsed.\n",
      "       3/10     0.252G      2.334      1.916      1.192         36        640:  37%|███▋      | 95/256 [05:02<08:47,  3.28s/it]\u001b[1;38;5;196mCOMET ERROR:\u001b[0m CUDA_VISIBLE_DEVICES contains value of invalid or unsupported format: -1\n",
      "\u001b[1;38;5;196mCOMET ERROR:\u001b[0m Invalid device identifier. Next identifiers won't be parsed.\n",
      "       3/10     0.252G      2.341      1.923       1.19         70        640:  41%|████      | 104/256 [05:30<08:00,  3.16s/it]\u001b[1;38;5;196mCOMET ERROR:\u001b[0m CUDA_VISIBLE_DEVICES contains value of invalid or unsupported format: -1\n",
      "\u001b[1;38;5;196mCOMET ERROR:\u001b[0m Invalid device identifier. Next identifiers won't be parsed.\n",
      "       3/10     0.252G      2.338      1.921       1.19         48        640:  45%|████▍     | 115/256 [06:04<07:15,  3.09s/it]\u001b[1;38;5;196mCOMET ERROR:\u001b[0m CUDA_VISIBLE_DEVICES contains value of invalid or unsupported format: -1\n",
      "\u001b[1;38;5;196mCOMET ERROR:\u001b[0m Invalid device identifier. Next identifiers won't be parsed.\n",
      "       3/10     0.252G      2.346      1.921      1.192         53        640:  48%|████▊     | 124/256 [06:33<07:08,  3.24s/it]\u001b[1;38;5;196mCOMET ERROR:\u001b[0m CUDA_VISIBLE_DEVICES contains value of invalid or unsupported format: -1\n",
      "\u001b[1;38;5;196mCOMET ERROR:\u001b[0m Invalid device identifier. Next identifiers won't be parsed.\n",
      "       3/10     0.252G      2.343       1.92      1.188         54        640:  52%|█████▏    | 134/256 [07:05<06:26,  3.17s/it]\u001b[1;38;5;196mCOMET ERROR:\u001b[0m CUDA_VISIBLE_DEVICES contains value of invalid or unsupported format: -1\n",
      "\u001b[1;38;5;196mCOMET ERROR:\u001b[0m Invalid device identifier. Next identifiers won't be parsed.\n",
      "       3/10     0.252G      2.337       1.91      1.187         39        640:  56%|█████▋    | 144/256 [07:36<05:50,  3.13s/it]\u001b[1;38;5;196mCOMET ERROR:\u001b[0m CUDA_VISIBLE_DEVICES contains value of invalid or unsupported format: -1\n",
      "\u001b[1;38;5;196mCOMET ERROR:\u001b[0m Invalid device identifier. Next identifiers won't be parsed.\n",
      "       3/10     0.252G      2.331      1.903      1.187         43        640:  60%|██████    | 154/256 [08:07<05:14,  3.09s/it]\u001b[1;38;5;196mCOMET ERROR:\u001b[0m CUDA_VISIBLE_DEVICES contains value of invalid or unsupported format: -1\n",
      "\u001b[1;38;5;196mCOMET ERROR:\u001b[0m Invalid device identifier. Next identifiers won't be parsed.\n",
      "       3/10     0.252G      2.323      1.898      1.188         54        640:  64%|██████▍   | 164/256 [08:38<04:48,  3.13s/it]\u001b[1;38;5;196mCOMET ERROR:\u001b[0m CUDA_VISIBLE_DEVICES contains value of invalid or unsupported format: -1\n",
      "\u001b[1;38;5;196mCOMET ERROR:\u001b[0m Invalid device identifier. Next identifiers won't be parsed.\n",
      "       3/10     0.252G      2.318       1.89      1.185         53        640:  68%|██████▊   | 174/256 [09:10<04:17,  3.14s/it]\u001b[1;38;5;196mCOMET ERROR:\u001b[0m CUDA_VISIBLE_DEVICES contains value of invalid or unsupported format: -1\n",
      "\u001b[1;38;5;196mCOMET ERROR:\u001b[0m Invalid device identifier. Next identifiers won't be parsed.\n",
      "       3/10     0.252G      2.318      1.887      1.184         58        640:  72%|███████▏  | 184/256 [09:41<03:45,  3.13s/it]\u001b[1;38;5;196mCOMET ERROR:\u001b[0m CUDA_VISIBLE_DEVICES contains value of invalid or unsupported format: -1\n",
      "\u001b[1;38;5;196mCOMET ERROR:\u001b[0m Invalid device identifier. Next identifiers won't be parsed.\n",
      "       3/10     0.252G      2.316      1.883      1.181         63        640:  76%|███████▌  | 194/256 [10:13<03:17,  3.18s/it]\u001b[1;38;5;196mCOMET ERROR:\u001b[0m CUDA_VISIBLE_DEVICES contains value of invalid or unsupported format: -1\n",
      "\u001b[1;38;5;196mCOMET ERROR:\u001b[0m Invalid device identifier. Next identifiers won't be parsed.\n",
      "       3/10     0.252G      2.315      1.879      1.183         48        640:  80%|███████▉  | 204/256 [10:44<02:41,  3.10s/it]\u001b[1;38;5;196mCOMET ERROR:\u001b[0m CUDA_VISIBLE_DEVICES contains value of invalid or unsupported format: -1\n",
      "\u001b[1;38;5;196mCOMET ERROR:\u001b[0m Invalid device identifier. Next identifiers won't be parsed.\n",
      "       3/10     0.252G       2.32      1.879      1.185         48        640:  84%|████████▎ | 214/256 [11:15<02:08,  3.06s/it]\u001b[1;38;5;196mCOMET ERROR:\u001b[0m CUDA_VISIBLE_DEVICES contains value of invalid or unsupported format: -1\n",
      "\u001b[1;38;5;196mCOMET ERROR:\u001b[0m Invalid device identifier. Next identifiers won't be parsed.\n",
      "       3/10     0.252G       2.32      1.875      1.184         56        640:  88%|████████▊ | 224/256 [11:45<01:38,  3.08s/it]\u001b[1;38;5;196mCOMET ERROR:\u001b[0m CUDA_VISIBLE_DEVICES contains value of invalid or unsupported format: -1\n",
      "\u001b[1;38;5;196mCOMET ERROR:\u001b[0m Invalid device identifier. Next identifiers won't be parsed.\n",
      "       3/10     0.252G      2.325      1.875      1.185         53        640:  91%|█████████▏| 234/256 [12:16<01:08,  3.10s/it]\u001b[1;38;5;196mCOMET ERROR:\u001b[0m CUDA_VISIBLE_DEVICES contains value of invalid or unsupported format: -1\n",
      "\u001b[1;38;5;196mCOMET ERROR:\u001b[0m Invalid device identifier. Next identifiers won't be parsed.\n",
      "       3/10     0.252G      2.323      1.873      1.184         40        640:  95%|█████████▌| 244/256 [12:47<00:36,  3.07s/it]\u001b[1;38;5;196mCOMET ERROR:\u001b[0m CUDA_VISIBLE_DEVICES contains value of invalid or unsupported format: -1\n",
      "\u001b[1;38;5;196mCOMET ERROR:\u001b[0m Invalid device identifier. Next identifiers won't be parsed.\n",
      "       3/10     0.252G      2.323      1.871      1.183         62        640:  99%|█████████▉| 254/256 [13:18<00:06,  3.08s/it]\u001b[1;38;5;196mCOMET ERROR:\u001b[0m CUDA_VISIBLE_DEVICES contains value of invalid or unsupported format: -1\n",
      "\u001b[1;38;5;196mCOMET ERROR:\u001b[0m Invalid device identifier. Next identifiers won't be parsed.\n",
      "       3/10     0.252G      2.325       1.87      1.183         37        640: 100%|██████████| 256/256 [13:23<00:00,  3.14s/it]\n",
      "                 Class     Images  Instances      Box(P          R      mAP50  mAP50-95): 100%|██████████| 13/13 [00:18<00:00,  1.40s/it]"
     ]
    },
    {
     "name": "stdout",
     "output_type": "stream",
     "text": [
      "                   all        400       1291      0.582      0.349      0.381      0.148\n"
     ]
    },
    {
     "name": "stderr",
     "output_type": "stream",
     "text": [
      "\n"
     ]
    },
    {
     "name": "stdout",
     "output_type": "stream",
     "text": [
      "\n",
      "      Epoch    GPU_mem   box_loss   cls_loss   dfl_loss  Instances       Size\n"
     ]
    },
    {
     "name": "stderr",
     "output_type": "stream",
     "text": [
      "       4/10     0.252G      2.115      1.683       1.17         52        640:   1%|          | 3/256 [00:09<12:52,  3.05s/it]\u001b[1;38;5;196mCOMET ERROR:\u001b[0m CUDA_VISIBLE_DEVICES contains value of invalid or unsupported format: -1\n",
      "\u001b[1;38;5;196mCOMET ERROR:\u001b[0m Invalid device identifier. Next identifiers won't be parsed.\n",
      "       4/10     0.252G      2.215      1.732      1.142         54        640:   5%|▌         | 13/256 [00:40<12:31,  3.09s/it]\u001b[1;38;5;196mCOMET ERROR:\u001b[0m CUDA_VISIBLE_DEVICES contains value of invalid or unsupported format: -1\n",
      "\u001b[1;38;5;196mCOMET ERROR:\u001b[0m Invalid device identifier. Next identifiers won't be parsed.\n",
      "       4/10     0.252G        2.3      1.778      1.155         60        640:   9%|▉         | 23/256 [01:11<12:14,  3.15s/it]\u001b[1;38;5;196mCOMET ERROR:\u001b[0m CUDA_VISIBLE_DEVICES contains value of invalid or unsupported format: -1\n",
      "\u001b[1;38;5;196mCOMET ERROR:\u001b[0m Invalid device identifier. Next identifiers won't be parsed.\n",
      "       4/10     0.252G      2.278      1.762      1.163         52        640:  13%|█▎        | 33/256 [01:42<11:37,  3.13s/it]\u001b[1;38;5;196mCOMET ERROR:\u001b[0m CUDA_VISIBLE_DEVICES contains value of invalid or unsupported format: -1\n",
      "\u001b[1;38;5;196mCOMET ERROR:\u001b[0m Invalid device identifier. Next identifiers won't be parsed.\n",
      "       4/10     0.252G      2.274      1.766      1.161         42        640:  17%|█▋        | 43/256 [02:14<11:16,  3.18s/it]\u001b[1;38;5;196mCOMET ERROR:\u001b[0m CUDA_VISIBLE_DEVICES contains value of invalid or unsupported format: -1\n",
      "\u001b[1;38;5;196mCOMET ERROR:\u001b[0m Invalid device identifier. Next identifiers won't be parsed.\n",
      "       4/10     0.252G      2.259      1.746       1.16         46        640:  21%|██        | 53/256 [02:45<10:31,  3.11s/it]\u001b[1;38;5;196mCOMET ERROR:\u001b[0m CUDA_VISIBLE_DEVICES contains value of invalid or unsupported format: -1\n",
      "\u001b[1;38;5;196mCOMET ERROR:\u001b[0m Invalid device identifier. Next identifiers won't be parsed.\n",
      "       4/10     0.252G      2.242      1.737      1.152         60        640:  25%|██▍       | 63/256 [03:17<10:45,  3.34s/it]\u001b[1;38;5;196mCOMET ERROR:\u001b[0m CUDA_VISIBLE_DEVICES contains value of invalid or unsupported format: -1\n",
      "\u001b[1;38;5;196mCOMET ERROR:\u001b[0m Invalid device identifier. Next identifiers won't be parsed.\n",
      "       4/10     0.252G       2.24      1.738      1.147         47        640:  28%|██▊       | 72/256 [03:45<09:38,  3.14s/it]\u001b[1;38;5;196mCOMET ERROR:\u001b[0m CUDA_VISIBLE_DEVICES contains value of invalid or unsupported format: -1\n",
      "\u001b[1;38;5;196mCOMET ERROR:\u001b[0m Invalid device identifier. Next identifiers won't be parsed.\n",
      "       4/10     0.252G      2.227      1.721      1.144         54        640:  32%|███▏      | 82/256 [04:17<09:05,  3.14s/it]\u001b[1;38;5;196mCOMET ERROR:\u001b[0m CUDA_VISIBLE_DEVICES contains value of invalid or unsupported format: -1\n",
      "\u001b[1;38;5;196mCOMET ERROR:\u001b[0m Invalid device identifier. Next identifiers won't be parsed.\n",
      "       4/10     0.252G       2.23      1.725      1.144         38        640:  36%|███▌      | 92/256 [04:48<08:27,  3.10s/it]\u001b[1;38;5;196mCOMET ERROR:\u001b[0m CUDA_VISIBLE_DEVICES contains value of invalid or unsupported format: -1\n",
      "\u001b[1;38;5;196mCOMET ERROR:\u001b[0m Invalid device identifier. Next identifiers won't be parsed.\n",
      "       4/10     0.252G      2.224       1.72      1.142         53        640:  40%|███▉      | 102/256 [05:19<08:02,  3.13s/it]\u001b[1;38;5;196mCOMET ERROR:\u001b[0m CUDA_VISIBLE_DEVICES contains value of invalid or unsupported format: -1\n",
      "\u001b[1;38;5;196mCOMET ERROR:\u001b[0m Invalid device identifier. Next identifiers won't be parsed.\n",
      "       4/10     0.252G       2.23      1.716      1.145         53        640:  44%|████▍     | 112/256 [05:51<07:33,  3.15s/it]\u001b[1;38;5;196mCOMET ERROR:\u001b[0m CUDA_VISIBLE_DEVICES contains value of invalid or unsupported format: -1\n",
      "\u001b[1;38;5;196mCOMET ERROR:\u001b[0m Invalid device identifier. Next identifiers won't be parsed.\n",
      "       4/10     0.252G      2.223      1.701      1.145         51        640:  48%|████▊     | 122/256 [06:23<07:04,  3.17s/it]\u001b[1;38;5;196mCOMET ERROR:\u001b[0m CUDA_VISIBLE_DEVICES contains value of invalid or unsupported format: -1\n",
      "\u001b[1;38;5;196mCOMET ERROR:\u001b[0m Invalid device identifier. Next identifiers won't be parsed.\n",
      "       4/10     0.252G      2.215      1.695      1.145         49        640:  52%|█████▏    | 132/256 [06:54<06:30,  3.15s/it]\u001b[1;38;5;196mCOMET ERROR:\u001b[0m CUDA_VISIBLE_DEVICES contains value of invalid or unsupported format: -1\n",
      "\u001b[1;38;5;196mCOMET ERROR:\u001b[0m Invalid device identifier. Next identifiers won't be parsed.\n",
      "       4/10     0.252G      2.208       1.69      1.145         34        640:  55%|█████▌    | 142/256 [07:26<06:00,  3.16s/it]\u001b[1;38;5;196mCOMET ERROR:\u001b[0m CUDA_VISIBLE_DEVICES contains value of invalid or unsupported format: -1\n",
      "\u001b[1;38;5;196mCOMET ERROR:\u001b[0m Invalid device identifier. Next identifiers won't be parsed.\n",
      "       4/10     0.252G       2.21      1.686      1.143         57        640:  59%|█████▉    | 152/256 [07:57<05:27,  3.15s/it]\u001b[1;38;5;196mCOMET ERROR:\u001b[0m CUDA_VISIBLE_DEVICES contains value of invalid or unsupported format: -1\n",
      "\u001b[1;38;5;196mCOMET ERROR:\u001b[0m Invalid device identifier. Next identifiers won't be parsed.\n",
      "       4/10     0.252G      2.215      1.688      1.143         55        640:  63%|██████▎   | 161/256 [08:26<05:02,  3.19s/it]\u001b[1;38;5;196mCOMET ERROR:\u001b[0m CUDA_VISIBLE_DEVICES contains value of invalid or unsupported format: -1\n",
      "\u001b[1;38;5;196mCOMET ERROR:\u001b[0m Invalid device identifier. Next identifiers won't be parsed.\n",
      "       4/10     0.252G      2.208      1.679      1.141         49        640:  67%|██████▋   | 171/256 [08:58<04:30,  3.19s/it]\u001b[1;38;5;196mCOMET ERROR:\u001b[0m CUDA_VISIBLE_DEVICES contains value of invalid or unsupported format: -1\n",
      "\u001b[1;38;5;196mCOMET ERROR:\u001b[0m Invalid device identifier. Next identifiers won't be parsed.\n",
      "       4/10     0.252G      2.203      1.671      1.141         48        640:  71%|███████   | 181/256 [09:29<03:57,  3.16s/it]\u001b[1;38;5;196mCOMET ERROR:\u001b[0m CUDA_VISIBLE_DEVICES contains value of invalid or unsupported format: -1\n",
      "\u001b[1;38;5;196mCOMET ERROR:\u001b[0m Invalid device identifier. Next identifiers won't be parsed.\n",
      "       4/10     0.252G        2.2      1.667      1.141         39        640:  75%|███████▍  | 191/256 [10:02<03:24,  3.15s/it]\u001b[1;38;5;196mCOMET ERROR:\u001b[0m CUDA_VISIBLE_DEVICES contains value of invalid or unsupported format: -1\n",
      "\u001b[1;38;5;196mCOMET ERROR:\u001b[0m Invalid device identifier. Next identifiers won't be parsed.\n",
      "       4/10     0.252G      2.198      1.662      1.141         49        640:  79%|███████▊  | 201/256 [10:33<02:51,  3.12s/it]\u001b[1;38;5;196mCOMET ERROR:\u001b[0m CUDA_VISIBLE_DEVICES contains value of invalid or unsupported format: -1\n",
      "\u001b[1;38;5;196mCOMET ERROR:\u001b[0m Invalid device identifier. Next identifiers won't be parsed.\n",
      "       4/10     0.252G      2.192      1.658       1.14         42        640:  82%|████████▏ | 211/256 [11:05<02:23,  3.19s/it]\u001b[1;38;5;196mCOMET ERROR:\u001b[0m CUDA_VISIBLE_DEVICES contains value of invalid or unsupported format: -1\n",
      "\u001b[1;38;5;196mCOMET ERROR:\u001b[0m Invalid device identifier. Next identifiers won't be parsed.\n",
      "       4/10     0.252G      2.189      1.653      1.138         46        640:  86%|████████▌ | 220/256 [11:33<01:53,  3.14s/it]\u001b[1;38;5;196mCOMET ERROR:\u001b[0m CUDA_VISIBLE_DEVICES contains value of invalid or unsupported format: -1\n",
      "\u001b[1;38;5;196mCOMET ERROR:\u001b[0m Invalid device identifier. Next identifiers won't be parsed.\n",
      "       4/10     0.252G      2.186       1.65      1.137         39        640:  90%|████████▉ | 230/256 [12:05<01:22,  3.16s/it]\u001b[1;38;5;196mCOMET ERROR:\u001b[0m CUDA_VISIBLE_DEVICES contains value of invalid or unsupported format: -1\n",
      "\u001b[1;38;5;196mCOMET ERROR:\u001b[0m Invalid device identifier. Next identifiers won't be parsed.\n",
      "       4/10     0.252G      2.186       1.65      1.136         39        640:  94%|█████████▍| 240/256 [12:36<00:49,  3.12s/it]\u001b[1;38;5;196mCOMET ERROR:\u001b[0m CUDA_VISIBLE_DEVICES contains value of invalid or unsupported format: -1\n",
      "\u001b[1;38;5;196mCOMET ERROR:\u001b[0m Invalid device identifier. Next identifiers won't be parsed.\n",
      "       4/10     0.252G      2.185      1.644      1.134         48        640:  98%|█████████▊| 250/256 [13:08<00:19,  3.26s/it]\u001b[1;38;5;196mCOMET ERROR:\u001b[0m CUDA_VISIBLE_DEVICES contains value of invalid or unsupported format: -1\n",
      "\u001b[1;38;5;196mCOMET ERROR:\u001b[0m Invalid device identifier. Next identifiers won't be parsed.\n",
      "       4/10     0.252G      2.185      1.642      1.134         38        640: 100%|██████████| 256/256 [13:26<00:00,  3.15s/it]\n",
      "                 Class     Images  Instances      Box(P          R      mAP50  mAP50-95):  77%|███████▋  | 10/13 [00:14<00:04,  1.38s/it]\u001b[1;38;5;196mCOMET ERROR:\u001b[0m CUDA_VISIBLE_DEVICES contains value of invalid or unsupported format: -1\n",
      "\u001b[1;38;5;196mCOMET ERROR:\u001b[0m Invalid device identifier. Next identifiers won't be parsed.\n",
      "                 Class     Images  Instances      Box(P          R      mAP50  mAP50-95): 100%|██████████| 13/13 [00:18<00:00,  1.43s/it]"
     ]
    },
    {
     "name": "stdout",
     "output_type": "stream",
     "text": [
      "                   all        400       1291      0.497      0.315      0.349      0.141\n",
      "\n",
      "      Epoch    GPU_mem   box_loss   cls_loss   dfl_loss  Instances       Size\n"
     ]
    },
    {
     "name": "stderr",
     "output_type": "stream",
     "text": [
      "\n",
      "       5/10     0.252G      2.143       1.51      1.116         61        640:   3%|▎         | 8/256 [00:24<12:38,  3.06s/it]\u001b[1;38;5;196mCOMET ERROR:\u001b[0m CUDA_VISIBLE_DEVICES contains value of invalid or unsupported format: -1\n",
      "\u001b[1;38;5;196mCOMET ERROR:\u001b[0m Invalid device identifier. Next identifiers won't be parsed.\n",
      "       5/10     0.252G      2.064      1.478      1.118         49        640:   7%|▋         | 18/256 [00:55<12:23,  3.12s/it]\u001b[1;38;5;196mCOMET ERROR:\u001b[0m CUDA_VISIBLE_DEVICES contains value of invalid or unsupported format: -1\n",
      "\u001b[1;38;5;196mCOMET ERROR:\u001b[0m Invalid device identifier. Next identifiers won't be parsed.\n",
      "       5/10     0.252G      2.107      1.524      1.118         48        640:  11%|█         | 28/256 [01:27<12:12,  3.21s/it]\u001b[1;38;5;196mCOMET ERROR:\u001b[0m CUDA_VISIBLE_DEVICES contains value of invalid or unsupported format: -1\n",
      "\u001b[1;38;5;196mCOMET ERROR:\u001b[0m Invalid device identifier. Next identifiers won't be parsed.\n",
      "       5/10     0.252G      2.118      1.551      1.114         48        640:  15%|█▍        | 38/256 [02:00<11:40,  3.21s/it]\u001b[1;38;5;196mCOMET ERROR:\u001b[0m CUDA_VISIBLE_DEVICES contains value of invalid or unsupported format: -1\n",
      "\u001b[1;38;5;196mCOMET ERROR:\u001b[0m Invalid device identifier. Next identifiers won't be parsed.\n",
      "       5/10     0.252G      2.128      1.567      1.112         60        640:  18%|█▊        | 47/256 [02:30<12:00,  3.45s/it]\u001b[1;38;5;196mCOMET ERROR:\u001b[0m CUDA_VISIBLE_DEVICES contains value of invalid or unsupported format: -1\n",
      "\u001b[1;38;5;196mCOMET ERROR:\u001b[0m Invalid device identifier. Next identifiers won't be parsed.\n",
      "       5/10     0.252G      2.136      1.566      1.108         56        640:  22%|██▏       | 57/256 [03:02<10:29,  3.16s/it]\u001b[1;38;5;196mCOMET ERROR:\u001b[0m CUDA_VISIBLE_DEVICES contains value of invalid or unsupported format: -1\n",
      "\u001b[1;38;5;196mCOMET ERROR:\u001b[0m Invalid device identifier. Next identifiers won't be parsed.\n",
      "       5/10     0.252G      2.124      1.554      1.107         43        640:  26%|██▌       | 67/256 [03:33<09:54,  3.14s/it]\u001b[1;38;5;196mCOMET ERROR:\u001b[0m CUDA_VISIBLE_DEVICES contains value of invalid or unsupported format: -1\n",
      "\u001b[1;38;5;196mCOMET ERROR:\u001b[0m Invalid device identifier. Next identifiers won't be parsed.\n",
      "       5/10     0.252G      2.122       1.55      1.109         49        640:  30%|███       | 77/256 [04:04<09:20,  3.13s/it]\u001b[1;38;5;196mCOMET ERROR:\u001b[0m CUDA_VISIBLE_DEVICES contains value of invalid or unsupported format: -1\n",
      "\u001b[1;38;5;196mCOMET ERROR:\u001b[0m Invalid device identifier. Next identifiers won't be parsed.\n",
      "       5/10     0.252G      2.126      1.551      1.112         42        640:  34%|███▎      | 86/256 [04:34<09:30,  3.35s/it]\u001b[1;38;5;196mCOMET ERROR:\u001b[0m CUDA_VISIBLE_DEVICES contains value of invalid or unsupported format: -1\n",
      "\u001b[1;38;5;196mCOMET ERROR:\u001b[0m Invalid device identifier. Next identifiers won't be parsed.\n",
      "       5/10     0.252G      2.141      1.554      1.113         35        640:  38%|███▊      | 96/256 [05:06<08:33,  3.21s/it]\u001b[1;38;5;196mCOMET ERROR:\u001b[0m CUDA_VISIBLE_DEVICES contains value of invalid or unsupported format: -1\n",
      "\u001b[1;38;5;196mCOMET ERROR:\u001b[0m Invalid device identifier. Next identifiers won't be parsed.\n",
      "       5/10     0.252G       2.14       1.55      1.111         47        640:  41%|████▏     | 106/256 [05:38<07:52,  3.15s/it]\u001b[1;38;5;196mCOMET ERROR:\u001b[0m CUDA_VISIBLE_DEVICES contains value of invalid or unsupported format: -1\n",
      "\u001b[1;38;5;196mCOMET ERROR:\u001b[0m Invalid device identifier. Next identifiers won't be parsed.\n",
      "       5/10     0.252G      2.138      1.544       1.11         42        640:  45%|████▌     | 116/256 [06:09<07:21,  3.15s/it]\u001b[1;38;5;196mCOMET ERROR:\u001b[0m CUDA_VISIBLE_DEVICES contains value of invalid or unsupported format: -1\n",
      "\u001b[1;38;5;196mCOMET ERROR:\u001b[0m Invalid device identifier. Next identifiers won't be parsed.\n",
      "       5/10     0.252G      2.145      1.547      1.113         33        640:  49%|████▉     | 126/256 [06:41<06:43,  3.10s/it]\u001b[1;38;5;196mCOMET ERROR:\u001b[0m CUDA_VISIBLE_DEVICES contains value of invalid or unsupported format: -1\n",
      "\u001b[1;38;5;196mCOMET ERROR:\u001b[0m Invalid device identifier. Next identifiers won't be parsed.\n",
      "       5/10     0.252G      2.143      1.545      1.111         44        640:  53%|█████▎    | 135/256 [07:09<06:25,  3.19s/it]\u001b[1;38;5;196mCOMET ERROR:\u001b[0m CUDA_VISIBLE_DEVICES contains value of invalid or unsupported format: -1\n",
      "\u001b[1;38;5;196mCOMET ERROR:\u001b[0m Invalid device identifier. Next identifiers won't be parsed.\n",
      "       5/10     0.252G      2.144      1.543      1.112         59        640:  57%|█████▋    | 145/256 [07:41<05:51,  3.16s/it]\u001b[1;38;5;196mCOMET ERROR:\u001b[0m CUDA_VISIBLE_DEVICES contains value of invalid or unsupported format: -1\n",
      "\u001b[1;38;5;196mCOMET ERROR:\u001b[0m Invalid device identifier. Next identifiers won't be parsed.\n",
      "       5/10     0.252G      2.143      1.544      1.111         58        640:  61%|██████    | 155/256 [08:13<05:31,  3.28s/it]\u001b[1;38;5;196mCOMET ERROR:\u001b[0m CUDA_VISIBLE_DEVICES contains value of invalid or unsupported format: -1\n",
      "\u001b[1;38;5;196mCOMET ERROR:\u001b[0m Invalid device identifier. Next identifiers won't be parsed.\n",
      "       5/10     0.252G      2.139      1.539       1.11         50        640:  64%|██████▍   | 165/256 [08:45<04:47,  3.16s/it]\u001b[1;38;5;196mCOMET ERROR:\u001b[0m CUDA_VISIBLE_DEVICES contains value of invalid or unsupported format: -1\n",
      "\u001b[1;38;5;196mCOMET ERROR:\u001b[0m Invalid device identifier. Next identifiers won't be parsed.\n",
      "       5/10     0.252G      2.137      1.534      1.108         49        640:  68%|██████▊   | 175/256 [09:16<04:15,  3.15s/it]\u001b[1;38;5;196mCOMET ERROR:\u001b[0m CUDA_VISIBLE_DEVICES contains value of invalid or unsupported format: -1\n",
      "\u001b[1;38;5;196mCOMET ERROR:\u001b[0m Invalid device identifier. Next identifiers won't be parsed.\n",
      "       5/10     0.252G      2.138      1.535      1.109         61        640:  72%|███████▏  | 185/256 [09:48<03:40,  3.10s/it]\u001b[1;38;5;196mCOMET ERROR:\u001b[0m CUDA_VISIBLE_DEVICES contains value of invalid or unsupported format: -1\n",
      "\u001b[1;38;5;196mCOMET ERROR:\u001b[0m Invalid device identifier. Next identifiers won't be parsed.\n",
      "       5/10     0.252G      2.133      1.529      1.108         39        640:  76%|███████▌  | 195/256 [10:19<03:09,  3.10s/it]\u001b[1;38;5;196mCOMET ERROR:\u001b[0m CUDA_VISIBLE_DEVICES contains value of invalid or unsupported format: -1\n",
      "\u001b[1;38;5;196mCOMET ERROR:\u001b[0m Invalid device identifier. Next identifiers won't be parsed.\n",
      "       5/10     0.252G      2.123      1.521      1.107         55        640:  80%|████████  | 205/256 [10:50<02:37,  3.09s/it]\u001b[1;38;5;196mCOMET ERROR:\u001b[0m CUDA_VISIBLE_DEVICES contains value of invalid or unsupported format: -1\n",
      "\u001b[1;38;5;196mCOMET ERROR:\u001b[0m Invalid device identifier. Next identifiers won't be parsed.\n",
      "       5/10     0.252G      2.123      1.525      1.105         49        640:  84%|████████▍ | 215/256 [11:21<02:07,  3.11s/it]\u001b[1;38;5;196mCOMET ERROR:\u001b[0m CUDA_VISIBLE_DEVICES contains value of invalid or unsupported format: -1\n",
      "\u001b[1;38;5;196mCOMET ERROR:\u001b[0m Invalid device identifier. Next identifiers won't be parsed.\n",
      "       5/10     0.252G      2.122      1.523      1.105         61        640:  88%|████████▊ | 224/256 [11:50<01:41,  3.16s/it]\u001b[1;38;5;196mCOMET ERROR:\u001b[0m CUDA_VISIBLE_DEVICES contains value of invalid or unsupported format: -1\n",
      "\u001b[1;38;5;196mCOMET ERROR:\u001b[0m Invalid device identifier. Next identifiers won't be parsed.\n",
      "       5/10     0.252G      2.115      1.516      1.104         41        640:  91%|█████████▏| 234/256 [12:21<01:08,  3.13s/it]\u001b[1;38;5;196mCOMET ERROR:\u001b[0m CUDA_VISIBLE_DEVICES contains value of invalid or unsupported format: -1\n",
      "\u001b[1;38;5;196mCOMET ERROR:\u001b[0m Invalid device identifier. Next identifiers won't be parsed.\n",
      "       5/10     0.252G      2.118      1.517      1.103         56        640:  95%|█████████▌| 244/256 [12:53<00:37,  3.16s/it]\u001b[1;38;5;196mCOMET ERROR:\u001b[0m CUDA_VISIBLE_DEVICES contains value of invalid or unsupported format: -1\n",
      "\u001b[1;38;5;196mCOMET ERROR:\u001b[0m Invalid device identifier. Next identifiers won't be parsed.\n",
      "       5/10     0.252G      2.114      1.514      1.102         40        640:  99%|█████████▉| 254/256 [13:25<00:06,  3.26s/it]\u001b[1;38;5;196mCOMET ERROR:\u001b[0m CUDA_VISIBLE_DEVICES contains value of invalid or unsupported format: -1\n",
      "\u001b[1;38;5;196mCOMET ERROR:\u001b[0m Invalid device identifier. Next identifiers won't be parsed.\n",
      "       5/10     0.252G      2.114      1.515      1.102         29        640: 100%|██████████| 256/256 [13:30<00:00,  3.17s/it]\n",
      "                 Class     Images  Instances      Box(P          R      mAP50  mAP50-95): 100%|██████████| 13/13 [00:18<00:00,  1.43s/it]"
     ]
    },
    {
     "name": "stdout",
     "output_type": "stream",
     "text": [
      "                   all        400       1291      0.701      0.466      0.511      0.215\n"
     ]
    },
    {
     "name": "stderr",
     "output_type": "stream",
     "text": [
      "\n"
     ]
    },
    {
     "name": "stdout",
     "output_type": "stream",
     "text": [
      "\n",
      "      Epoch    GPU_mem   box_loss   cls_loss   dfl_loss  Instances       Size\n"
     ]
    },
    {
     "name": "stderr",
     "output_type": "stream",
     "text": [
      "       6/10     0.252G      2.183      1.421      1.074         46        640:   1%|          | 2/256 [00:06<12:50,  3.04s/it]\u001b[1;38;5;196mCOMET ERROR:\u001b[0m CUDA_VISIBLE_DEVICES contains value of invalid or unsupported format: -1\n",
      "\u001b[1;38;5;196mCOMET ERROR:\u001b[0m Invalid device identifier. Next identifiers won't be parsed.\n",
      "       6/10     0.252G      2.008      1.322      1.096         42        640:   5%|▍         | 12/256 [00:36<12:31,  3.08s/it]\u001b[1;38;5;196mCOMET ERROR:\u001b[0m CUDA_VISIBLE_DEVICES contains value of invalid or unsupported format: -1\n",
      "\u001b[1;38;5;196mCOMET ERROR:\u001b[0m Invalid device identifier. Next identifiers won't be parsed.\n",
      "       6/10     0.252G      2.098      1.401       1.11         49        640:   9%|▊         | 22/256 [01:08<12:25,  3.18s/it]\u001b[1;38;5;196mCOMET ERROR:\u001b[0m CUDA_VISIBLE_DEVICES contains value of invalid or unsupported format: -1\n",
      "\u001b[1;38;5;196mCOMET ERROR:\u001b[0m Invalid device identifier. Next identifiers won't be parsed.\n",
      "       6/10     0.252G      2.063      1.401      1.103         47        640:  12%|█▎        | 32/256 [01:40<11:48,  3.16s/it]\u001b[1;38;5;196mCOMET ERROR:\u001b[0m CUDA_VISIBLE_DEVICES contains value of invalid or unsupported format: -1\n",
      "\u001b[1;38;5;196mCOMET ERROR:\u001b[0m Invalid device identifier. Next identifiers won't be parsed.\n",
      "       6/10     0.252G      2.089      1.439      1.105         53        640:  16%|█▋        | 42/256 [02:12<11:17,  3.16s/it]\u001b[1;38;5;196mCOMET ERROR:\u001b[0m CUDA_VISIBLE_DEVICES contains value of invalid or unsupported format: -1\n",
      "\u001b[1;38;5;196mCOMET ERROR:\u001b[0m Invalid device identifier. Next identifiers won't be parsed.\n",
      "       6/10     0.252G      2.084      1.435      1.102         47        640:  20%|██        | 52/256 [02:43<10:41,  3.15s/it]\u001b[1;38;5;196mCOMET ERROR:\u001b[0m CUDA_VISIBLE_DEVICES contains value of invalid or unsupported format: -1\n",
      "\u001b[1;38;5;196mCOMET ERROR:\u001b[0m Invalid device identifier. Next identifiers won't be parsed.\n",
      "       6/10     0.252G      2.076      1.438      1.101         39        640:  24%|██▍       | 62/256 [03:15<10:16,  3.18s/it]\u001b[1;38;5;196mCOMET ERROR:\u001b[0m CUDA_VISIBLE_DEVICES contains value of invalid or unsupported format: -1\n",
      "\u001b[1;38;5;196mCOMET ERROR:\u001b[0m Invalid device identifier. Next identifiers won't be parsed.\n",
      "       6/10     0.252G      2.057      1.434      1.097         56        640:  28%|██▊       | 71/256 [03:44<09:47,  3.18s/it]\u001b[1;38;5;196mCOMET ERROR:\u001b[0m CUDA_VISIBLE_DEVICES contains value of invalid or unsupported format: -1\n",
      "\u001b[1;38;5;196mCOMET ERROR:\u001b[0m Invalid device identifier. Next identifiers won't be parsed.\n",
      "       6/10     0.252G      2.039      1.413      1.093         61        640:  32%|███▏      | 81/256 [04:15<09:12,  3.16s/it]\u001b[1;38;5;196mCOMET ERROR:\u001b[0m CUDA_VISIBLE_DEVICES contains value of invalid or unsupported format: -1\n",
      "\u001b[1;38;5;196mCOMET ERROR:\u001b[0m Invalid device identifier. Next identifiers won't be parsed.\n",
      "       6/10     0.252G      2.032      1.401      1.093         52        640:  36%|███▌      | 91/256 [04:47<08:46,  3.19s/it]\u001b[1;38;5;196mCOMET ERROR:\u001b[0m CUDA_VISIBLE_DEVICES contains value of invalid or unsupported format: -1\n",
      "\u001b[1;38;5;196mCOMET ERROR:\u001b[0m Invalid device identifier. Next identifiers won't be parsed.\n",
      "       6/10     0.252G      2.035      1.403      1.089         47        640:  39%|███▉      | 101/256 [05:19<08:10,  3.16s/it]\u001b[1;38;5;196mCOMET ERROR:\u001b[0m CUDA_VISIBLE_DEVICES contains value of invalid or unsupported format: -1\n",
      "\u001b[1;38;5;196mCOMET ERROR:\u001b[0m Invalid device identifier. Next identifiers won't be parsed.\n",
      "       6/10     0.252G      2.028      1.398      1.091         46        640:  43%|████▎     | 111/256 [05:50<07:38,  3.16s/it]\u001b[1;38;5;196mCOMET ERROR:\u001b[0m CUDA_VISIBLE_DEVICES contains value of invalid or unsupported format: -1\n",
      "\u001b[1;38;5;196mCOMET ERROR:\u001b[0m Invalid device identifier. Next identifiers won't be parsed.\n",
      "       6/10     0.252G      2.028      1.396       1.09         49        640:  47%|████▋     | 121/256 [06:22<07:05,  3.15s/it]\u001b[1;38;5;196mCOMET ERROR:\u001b[0m CUDA_VISIBLE_DEVICES contains value of invalid or unsupported format: -1\n",
      "\u001b[1;38;5;196mCOMET ERROR:\u001b[0m Invalid device identifier. Next identifiers won't be parsed.\n",
      "       6/10     0.252G      2.023      1.398      1.087         48        640:  51%|█████     | 130/256 [06:51<06:45,  3.22s/it]\u001b[1;38;5;196mCOMET ERROR:\u001b[0m CUDA_VISIBLE_DEVICES contains value of invalid or unsupported format: -1\n",
      "\u001b[1;38;5;196mCOMET ERROR:\u001b[0m Invalid device identifier. Next identifiers won't be parsed.\n",
      "       6/10     0.252G      2.022      1.401      1.084         43        640:  55%|█████▍    | 140/256 [07:22<06:07,  3.17s/it]\u001b[1;38;5;196mCOMET ERROR:\u001b[0m CUDA_VISIBLE_DEVICES contains value of invalid or unsupported format: -1\n",
      "\u001b[1;38;5;196mCOMET ERROR:\u001b[0m Invalid device identifier. Next identifiers won't be parsed.\n",
      "       6/10     0.252G      2.026      1.408       1.08         45        640:  59%|█████▊    | 150/256 [07:54<05:38,  3.19s/it]\u001b[1;38;5;196mCOMET ERROR:\u001b[0m CUDA_VISIBLE_DEVICES contains value of invalid or unsupported format: -1\n",
      "\u001b[1;38;5;196mCOMET ERROR:\u001b[0m Invalid device identifier. Next identifiers won't be parsed.\n",
      "       6/10     0.252G      2.023      1.404      1.079         38        640:  62%|██████▏   | 159/256 [08:24<05:15,  3.25s/it]\u001b[1;38;5;196mCOMET ERROR:\u001b[0m CUDA_VISIBLE_DEVICES contains value of invalid or unsupported format: -1\n",
      "\u001b[1;38;5;196mCOMET ERROR:\u001b[0m Invalid device identifier. Next identifiers won't be parsed.\n",
      "       6/10     0.252G      2.027      1.405       1.08         53        640:  66%|██████▌   | 169/256 [08:56<04:41,  3.24s/it]\u001b[1;38;5;196mCOMET ERROR:\u001b[0m CUDA_VISIBLE_DEVICES contains value of invalid or unsupported format: -1\n",
      "\u001b[1;38;5;196mCOMET ERROR:\u001b[0m Invalid device identifier. Next identifiers won't be parsed.\n",
      "       6/10     0.252G      2.032      1.407      1.078         49        640:  70%|██████▉   | 179/256 [09:29<04:08,  3.22s/it]\u001b[1;38;5;196mCOMET ERROR:\u001b[0m CUDA_VISIBLE_DEVICES contains value of invalid or unsupported format: -1\n",
      "\u001b[1;38;5;196mCOMET ERROR:\u001b[0m Invalid device identifier. Next identifiers won't be parsed.\n",
      "       6/10     0.252G      2.032      1.407      1.078         51        640:  73%|███████▎  | 188/256 [09:58<03:38,  3.21s/it]\u001b[1;38;5;196mCOMET ERROR:\u001b[0m CUDA_VISIBLE_DEVICES contains value of invalid or unsupported format: -1\n",
      "\u001b[1;38;5;196mCOMET ERROR:\u001b[0m Invalid device identifier. Next identifiers won't be parsed.\n",
      "       6/10     0.252G      2.029      1.401      1.078         47        640:  77%|███████▋  | 198/256 [10:29<03:03,  3.16s/it]\u001b[1;38;5;196mCOMET ERROR:\u001b[0m CUDA_VISIBLE_DEVICES contains value of invalid or unsupported format: -1\n",
      "\u001b[1;38;5;196mCOMET ERROR:\u001b[0m Invalid device identifier. Next identifiers won't be parsed.\n",
      "       6/10     0.252G      2.026      1.397      1.077         44        640:  81%|████████▏ | 208/256 [11:01<02:33,  3.19s/it]\u001b[1;38;5;196mCOMET ERROR:\u001b[0m CUDA_VISIBLE_DEVICES contains value of invalid or unsupported format: -1\n",
      "\u001b[1;38;5;196mCOMET ERROR:\u001b[0m Invalid device identifier. Next identifiers won't be parsed.\n",
      "       6/10     0.252G      2.021      1.393      1.074         65        640:  85%|████████▌ | 218/256 [11:33<01:59,  3.16s/it]\u001b[1;38;5;196mCOMET ERROR:\u001b[0m CUDA_VISIBLE_DEVICES contains value of invalid or unsupported format: -1\n",
      "\u001b[1;38;5;196mCOMET ERROR:\u001b[0m Invalid device identifier. Next identifiers won't be parsed.\n",
      "       6/10     0.252G      2.016      1.387      1.072         72        640:  89%|████████▉ | 228/256 [12:04<01:29,  3.20s/it]\u001b[1;38;5;196mCOMET ERROR:\u001b[0m CUDA_VISIBLE_DEVICES contains value of invalid or unsupported format: -1\n",
      "\u001b[1;38;5;196mCOMET ERROR:\u001b[0m Invalid device identifier. Next identifiers won't be parsed.\n",
      "       6/10     0.252G      2.011      1.383      1.072         45        640:  93%|█████████▎| 237/256 [12:34<01:01,  3.23s/it]\u001b[1;38;5;196mCOMET ERROR:\u001b[0m CUDA_VISIBLE_DEVICES contains value of invalid or unsupported format: -1\n",
      "\u001b[1;38;5;196mCOMET ERROR:\u001b[0m Invalid device identifier. Next identifiers won't be parsed.\n",
      "       6/10     0.252G       2.01      1.379      1.072         47        640:  96%|█████████▋| 247/256 [13:06<00:28,  3.17s/it]\u001b[1;38;5;196mCOMET ERROR:\u001b[0m CUDA_VISIBLE_DEVICES contains value of invalid or unsupported format: -1\n",
      "\u001b[1;38;5;196mCOMET ERROR:\u001b[0m Invalid device identifier. Next identifiers won't be parsed.\n",
      "       6/10     0.252G      2.007      1.376      1.072         32        640: 100%|██████████| 256/256 [13:33<00:00,  3.18s/it]\n",
      "                 Class     Images  Instances      Box(P          R      mAP50  mAP50-95):  31%|███       | 4/13 [00:05<00:12,  1.40s/it]\u001b[1;38;5;196mCOMET ERROR:\u001b[0m CUDA_VISIBLE_DEVICES contains value of invalid or unsupported format: -1\n",
      "\u001b[1;38;5;196mCOMET ERROR:\u001b[0m Invalid device identifier. Next identifiers won't be parsed.\n",
      "                 Class     Images  Instances      Box(P          R      mAP50  mAP50-95): 100%|██████████| 13/13 [00:18<00:00,  1.42s/it]"
     ]
    },
    {
     "name": "stdout",
     "output_type": "stream",
     "text": [
      "                   all        400       1291      0.734      0.491      0.558      0.253\n"
     ]
    },
    {
     "name": "stderr",
     "output_type": "stream",
     "text": [
      "\n"
     ]
    },
    {
     "name": "stdout",
     "output_type": "stream",
     "text": [
      "\n",
      "      Epoch    GPU_mem   box_loss   cls_loss   dfl_loss  Instances       Size\n"
     ]
    },
    {
     "name": "stderr",
     "output_type": "stream",
     "text": [
      "       7/10     0.252G      2.034       1.32      1.036         50        640:   2%|▏         | 5/256 [00:15<12:54,  3.09s/it]\u001b[1;38;5;196mCOMET ERROR:\u001b[0m CUDA_VISIBLE_DEVICES contains value of invalid or unsupported format: -1\n",
      "\u001b[1;38;5;196mCOMET ERROR:\u001b[0m Invalid device identifier. Next identifiers won't be parsed.\n",
      "       7/10     0.252G      1.971      1.306      1.043         45        640:   6%|▌         | 15/256 [00:46<12:36,  3.14s/it]\u001b[1;38;5;196mCOMET ERROR:\u001b[0m CUDA_VISIBLE_DEVICES contains value of invalid or unsupported format: -1\n",
      "\u001b[1;38;5;196mCOMET ERROR:\u001b[0m Invalid device identifier. Next identifiers won't be parsed.\n",
      "       7/10     0.252G       1.93      1.294      1.042         46        640:  10%|▉         | 25/256 [01:18<12:21,  3.21s/it]\u001b[1;38;5;196mCOMET ERROR:\u001b[0m CUDA_VISIBLE_DEVICES contains value of invalid or unsupported format: -1\n",
      "\u001b[1;38;5;196mCOMET ERROR:\u001b[0m Invalid device identifier. Next identifiers won't be parsed.\n",
      "       7/10     0.252G      1.948      1.293      1.044         53        640:  14%|█▎        | 35/256 [01:50<11:39,  3.16s/it]\u001b[1;38;5;196mCOMET ERROR:\u001b[0m CUDA_VISIBLE_DEVICES contains value of invalid or unsupported format: -1\n",
      "\u001b[1;38;5;196mCOMET ERROR:\u001b[0m Invalid device identifier. Next identifiers won't be parsed.\n",
      "       7/10     0.252G      1.923      1.275      1.041         45        640:  18%|█▊        | 45/256 [02:21<11:09,  3.17s/it]\u001b[1;38;5;196mCOMET ERROR:\u001b[0m CUDA_VISIBLE_DEVICES contains value of invalid or unsupported format: -1\n",
      "\u001b[1;38;5;196mCOMET ERROR:\u001b[0m Invalid device identifier. Next identifiers won't be parsed.\n",
      "       7/10     0.252G      1.934      1.284      1.041         39        640:  21%|██▏       | 55/256 [02:53<10:34,  3.16s/it]\u001b[1;38;5;196mCOMET ERROR:\u001b[0m CUDA_VISIBLE_DEVICES contains value of invalid or unsupported format: -1\n",
      "\u001b[1;38;5;196mCOMET ERROR:\u001b[0m Invalid device identifier. Next identifiers won't be parsed.\n",
      "       7/10     0.252G      1.941      1.284      1.043         56        640:  25%|██▌       | 65/256 [03:25<10:03,  3.16s/it]\u001b[1;38;5;196mCOMET ERROR:\u001b[0m CUDA_VISIBLE_DEVICES contains value of invalid or unsupported format: -1\n",
      "\u001b[1;38;5;196mCOMET ERROR:\u001b[0m Invalid device identifier. Next identifiers won't be parsed.\n",
      "       7/10     0.252G      1.947      1.286      1.043         41        640:  29%|██▉       | 74/256 [03:53<09:46,  3.22s/it]\u001b[1;38;5;196mCOMET ERROR:\u001b[0m CUDA_VISIBLE_DEVICES contains value of invalid or unsupported format: -1\n",
      "\u001b[1;38;5;196mCOMET ERROR:\u001b[0m Invalid device identifier. Next identifiers won't be parsed.\n",
      "       7/10     0.252G      1.939      1.281      1.041         63        640:  33%|███▎      | 84/256 [04:25<09:01,  3.15s/it]\u001b[1;38;5;196mCOMET ERROR:\u001b[0m CUDA_VISIBLE_DEVICES contains value of invalid or unsupported format: -1\n",
      "\u001b[1;38;5;196mCOMET ERROR:\u001b[0m Invalid device identifier. Next identifiers won't be parsed.\n",
      "       7/10     0.252G       1.94      1.275      1.043         52        640:  37%|███▋      | 94/256 [04:57<08:29,  3.15s/it]\u001b[1;38;5;196mCOMET ERROR:\u001b[0m CUDA_VISIBLE_DEVICES contains value of invalid or unsupported format: -1\n",
      "\u001b[1;38;5;196mCOMET ERROR:\u001b[0m Invalid device identifier. Next identifiers won't be parsed.\n",
      "       7/10     0.252G      1.937       1.27      1.043         47        640:  41%|████      | 104/256 [05:28<07:56,  3.13s/it]\u001b[1;38;5;196mCOMET ERROR:\u001b[0m CUDA_VISIBLE_DEVICES contains value of invalid or unsupported format: -1\n",
      "\u001b[1;38;5;196mCOMET ERROR:\u001b[0m Invalid device identifier. Next identifiers won't be parsed.\n",
      "       7/10     0.252G      1.937      1.266      1.044         43        640:  45%|████▍     | 114/256 [06:00<07:29,  3.17s/it]\u001b[1;38;5;196mCOMET ERROR:\u001b[0m CUDA_VISIBLE_DEVICES contains value of invalid or unsupported format: -1\n",
      "\u001b[1;38;5;196mCOMET ERROR:\u001b[0m Invalid device identifier. Next identifiers won't be parsed.\n",
      "       7/10     0.252G      1.934      1.263      1.045         45        640:  48%|████▊     | 123/256 [06:29<07:07,  3.21s/it]\u001b[1;38;5;196mCOMET ERROR:\u001b[0m CUDA_VISIBLE_DEVICES contains value of invalid or unsupported format: -1\n",
      "\u001b[1;38;5;196mCOMET ERROR:\u001b[0m Invalid device identifier. Next identifiers won't be parsed.\n",
      "       7/10     0.252G      1.928      1.262      1.044         48        640:  52%|█████▏    | 133/256 [07:01<06:47,  3.31s/it]\u001b[1;38;5;196mCOMET ERROR:\u001b[0m CUDA_VISIBLE_DEVICES contains value of invalid or unsupported format: -1\n",
      "\u001b[1;38;5;196mCOMET ERROR:\u001b[0m Invalid device identifier. Next identifiers won't be parsed.\n",
      "       7/10     0.252G      1.923      1.262      1.043         53        640:  56%|█████▌    | 143/256 [07:32<05:54,  3.13s/it]\u001b[1;38;5;196mCOMET ERROR:\u001b[0m CUDA_VISIBLE_DEVICES contains value of invalid or unsupported format: -1\n",
      "\u001b[1;38;5;196mCOMET ERROR:\u001b[0m Invalid device identifier. Next identifiers won't be parsed.\n",
      "       7/10     0.252G      1.919      1.258      1.042         44        640:  60%|█████▉    | 153/256 [08:04<05:23,  3.14s/it]\u001b[1;38;5;196mCOMET ERROR:\u001b[0m CUDA_VISIBLE_DEVICES contains value of invalid or unsupported format: -1\n",
      "\u001b[1;38;5;196mCOMET ERROR:\u001b[0m Invalid device identifier. Next identifiers won't be parsed.\n",
      "       7/10     0.252G       1.92      1.256      1.041         50        640:  64%|██████▎   | 163/256 [08:36<04:56,  3.19s/it]\u001b[1;38;5;196mCOMET ERROR:\u001b[0m CUDA_VISIBLE_DEVICES contains value of invalid or unsupported format: -1\n",
      "\u001b[1;38;5;196mCOMET ERROR:\u001b[0m Invalid device identifier. Next identifiers won't be parsed.\n",
      "       7/10     0.252G      1.918      1.255      1.042         34        640:  67%|██████▋   | 172/256 [09:05<04:31,  3.23s/it]\u001b[1;38;5;196mCOMET ERROR:\u001b[0m CUDA_VISIBLE_DEVICES contains value of invalid or unsupported format: -1\n",
      "\u001b[1;38;5;196mCOMET ERROR:\u001b[0m Invalid device identifier. Next identifiers won't be parsed.\n",
      "       7/10     0.252G      1.918      1.252      1.042         50        640:  71%|███████   | 182/256 [09:37<03:52,  3.15s/it]\u001b[1;38;5;196mCOMET ERROR:\u001b[0m CUDA_VISIBLE_DEVICES contains value of invalid or unsupported format: -1\n",
      "\u001b[1;38;5;196mCOMET ERROR:\u001b[0m Invalid device identifier. Next identifiers won't be parsed.\n",
      "       7/10     0.252G       1.92      1.253      1.043         71        640:  75%|███████▌  | 192/256 [10:08<03:21,  3.15s/it]\u001b[1;38;5;196mCOMET ERROR:\u001b[0m CUDA_VISIBLE_DEVICES contains value of invalid or unsupported format: -1\n",
      "\u001b[1;38;5;196mCOMET ERROR:\u001b[0m Invalid device identifier. Next identifiers won't be parsed.\n",
      "       7/10     0.252G      1.917      1.254      1.042         49        640:  79%|███████▉  | 202/256 [10:41<02:53,  3.21s/it]\u001b[1;38;5;196mCOMET ERROR:\u001b[0m CUDA_VISIBLE_DEVICES contains value of invalid or unsupported format: -1\n",
      "\u001b[1;38;5;196mCOMET ERROR:\u001b[0m Invalid device identifier. Next identifiers won't be parsed.\n",
      "       7/10     0.252G       1.92      1.253       1.04         49        640:  82%|████████▏ | 211/256 [11:10<02:22,  3.16s/it]\u001b[1;38;5;196mCOMET ERROR:\u001b[0m CUDA_VISIBLE_DEVICES contains value of invalid or unsupported format: -1\n",
      "\u001b[1;38;5;196mCOMET ERROR:\u001b[0m Invalid device identifier. Next identifiers won't be parsed.\n",
      "       7/10     0.252G      1.919      1.252       1.04         56        640:  86%|████████▋ | 221/256 [11:41<01:50,  3.15s/it]\u001b[1;38;5;196mCOMET ERROR:\u001b[0m CUDA_VISIBLE_DEVICES contains value of invalid or unsupported format: -1\n",
      "\u001b[1;38;5;196mCOMET ERROR:\u001b[0m Invalid device identifier. Next identifiers won't be parsed.\n",
      "       7/10     0.252G      1.918       1.25      1.039         43        640:  90%|█████████ | 231/256 [12:13<01:18,  3.16s/it]\u001b[1;38;5;196mCOMET ERROR:\u001b[0m CUDA_VISIBLE_DEVICES contains value of invalid or unsupported format: -1\n",
      "\u001b[1;38;5;196mCOMET ERROR:\u001b[0m Invalid device identifier. Next identifiers won't be parsed.\n",
      "       7/10     0.252G      1.922      1.253       1.04         38        640:  94%|█████████▍| 241/256 [12:44<00:46,  3.13s/it]\u001b[1;38;5;196mCOMET ERROR:\u001b[0m CUDA_VISIBLE_DEVICES contains value of invalid or unsupported format: -1\n",
      "\u001b[1;38;5;196mCOMET ERROR:\u001b[0m Invalid device identifier. Next identifiers won't be parsed.\n",
      "       7/10     0.252G      1.919      1.251       1.04         44        640:  98%|█████████▊| 251/256 [13:16<00:15,  3.15s/it]\u001b[1;38;5;196mCOMET ERROR:\u001b[0m CUDA_VISIBLE_DEVICES contains value of invalid or unsupported format: -1\n",
      "\u001b[1;38;5;196mCOMET ERROR:\u001b[0m Invalid device identifier. Next identifiers won't be parsed.\n",
      "       7/10     0.252G      1.916      1.251      1.039         26        640: 100%|██████████| 256/256 [13:31<00:00,  3.17s/it]\n",
      "                 Class     Images  Instances      Box(P          R      mAP50  mAP50-95):  92%|█████████▏| 12/13 [00:16<00:01,  1.37s/it]\u001b[1;38;5;196mCOMET ERROR:\u001b[0m CUDA_VISIBLE_DEVICES contains value of invalid or unsupported format: -1\n",
      "\u001b[1;38;5;196mCOMET ERROR:\u001b[0m Invalid device identifier. Next identifiers won't be parsed.\n",
      "                 Class     Images  Instances      Box(P          R      mAP50  mAP50-95): 100%|██████████| 13/13 [00:18<00:00,  1.43s/it]"
     ]
    },
    {
     "name": "stdout",
     "output_type": "stream",
     "text": [
      "                   all        400       1291      0.804       0.53       0.61      0.281\n"
     ]
    },
    {
     "name": "stderr",
     "output_type": "stream",
     "text": [
      "\n"
     ]
    },
    {
     "name": "stdout",
     "output_type": "stream",
     "text": [
      "\n",
      "      Epoch    GPU_mem   box_loss   cls_loss   dfl_loss  Instances       Size\n"
     ]
    },
    {
     "name": "stderr",
     "output_type": "stream",
     "text": [
      "       8/10     0.252G      1.925      1.223      1.038         57        640:   4%|▎         | 9/256 [00:27<12:34,  3.06s/it]\u001b[1;38;5;196mCOMET ERROR:\u001b[0m CUDA_VISIBLE_DEVICES contains value of invalid or unsupported format: -1\n",
      "\u001b[1;38;5;196mCOMET ERROR:\u001b[0m Invalid device identifier. Next identifiers won't be parsed.\n",
      "       8/10     0.252G      1.856      1.202      1.023         55        640:   7%|▋         | 19/256 [00:59<12:29,  3.16s/it]\u001b[1;38;5;196mCOMET ERROR:\u001b[0m CUDA_VISIBLE_DEVICES contains value of invalid or unsupported format: -1\n",
      "\u001b[1;38;5;196mCOMET ERROR:\u001b[0m Invalid device identifier. Next identifiers won't be parsed.\n",
      "       8/10     0.252G      1.835      1.184      1.019         44        640:  11%|█▏        | 29/256 [01:30<11:51,  3.13s/it]\u001b[1;38;5;196mCOMET ERROR:\u001b[0m CUDA_VISIBLE_DEVICES contains value of invalid or unsupported format: -1\n",
      "\u001b[1;38;5;196mCOMET ERROR:\u001b[0m Invalid device identifier. Next identifiers won't be parsed.\n",
      "       8/10     0.252G      1.815      1.165      1.023         48        640:  15%|█▌        | 39/256 [02:02<11:27,  3.17s/it]\u001b[1;38;5;196mCOMET ERROR:\u001b[0m CUDA_VISIBLE_DEVICES contains value of invalid or unsupported format: -1\n",
      "\u001b[1;38;5;196mCOMET ERROR:\u001b[0m Invalid device identifier. Next identifiers won't be parsed.\n",
      "       8/10     0.252G      1.824      1.161      1.023         56        640:  19%|█▉        | 49/256 [02:33<10:59,  3.18s/it]\u001b[1;38;5;196mCOMET ERROR:\u001b[0m CUDA_VISIBLE_DEVICES contains value of invalid or unsupported format: -1\n",
      "\u001b[1;38;5;196mCOMET ERROR:\u001b[0m Invalid device identifier. Next identifiers won't be parsed.\n",
      "       8/10     0.252G       1.83      1.167      1.023         42        640:  23%|██▎       | 59/256 [03:05<10:22,  3.16s/it]\u001b[1;38;5;196mCOMET ERROR:\u001b[0m CUDA_VISIBLE_DEVICES contains value of invalid or unsupported format: -1\n",
      "\u001b[1;38;5;196mCOMET ERROR:\u001b[0m Invalid device identifier. Next identifiers won't be parsed.\n",
      "       8/10     0.252G      1.842       1.18      1.025         52        640:  27%|██▋       | 69/256 [03:36<09:43,  3.12s/it]\u001b[1;38;5;196mCOMET ERROR:\u001b[0m CUDA_VISIBLE_DEVICES contains value of invalid or unsupported format: -1\n",
      "\u001b[1;38;5;196mCOMET ERROR:\u001b[0m Invalid device identifier. Next identifiers won't be parsed.\n",
      "       8/10     0.252G      1.853       1.19      1.027         53        640:  31%|███       | 79/256 [04:08<09:20,  3.17s/it]\u001b[1;38;5;196mCOMET ERROR:\u001b[0m CUDA_VISIBLE_DEVICES contains value of invalid or unsupported format: -1\n",
      "\u001b[1;38;5;196mCOMET ERROR:\u001b[0m Invalid device identifier. Next identifiers won't be parsed.\n",
      "       8/10     0.252G      1.844      1.179      1.029         40        640:  34%|███▍      | 88/256 [04:37<09:01,  3.22s/it]\u001b[1;38;5;196mCOMET ERROR:\u001b[0m CUDA_VISIBLE_DEVICES contains value of invalid or unsupported format: -1\n",
      "\u001b[1;38;5;196mCOMET ERROR:\u001b[0m Invalid device identifier. Next identifiers won't be parsed.\n",
      "       8/10     0.252G      1.846      1.184      1.029         51        640:  38%|███▊      | 97/256 [05:07<08:36,  3.25s/it]\u001b[1;38;5;196mCOMET ERROR:\u001b[0m CUDA_VISIBLE_DEVICES contains value of invalid or unsupported format: -1\n",
      "\u001b[1;38;5;196mCOMET ERROR:\u001b[0m Invalid device identifier. Next identifiers won't be parsed.\n",
      "       8/10     0.252G      1.839      1.178      1.029         46        640:  42%|████▏     | 107/256 [05:39<07:54,  3.18s/it]\u001b[1;38;5;196mCOMET ERROR:\u001b[0m CUDA_VISIBLE_DEVICES contains value of invalid or unsupported format: -1\n",
      "\u001b[1;38;5;196mCOMET ERROR:\u001b[0m Invalid device identifier. Next identifiers won't be parsed.\n",
      "       8/10     0.252G      1.835      1.168       1.03         42        640:  46%|████▌     | 117/256 [06:12<07:25,  3.21s/it]\u001b[1;38;5;196mCOMET ERROR:\u001b[0m CUDA_VISIBLE_DEVICES contains value of invalid or unsupported format: -1\n",
      "\u001b[1;38;5;196mCOMET ERROR:\u001b[0m Invalid device identifier. Next identifiers won't be parsed.\n",
      "       8/10     0.252G       1.83      1.165      1.028         61        640:  50%|████▉     | 127/256 [06:43<06:49,  3.17s/it]\u001b[1;38;5;196mCOMET ERROR:\u001b[0m CUDA_VISIBLE_DEVICES contains value of invalid or unsupported format: -1\n",
      "\u001b[1;38;5;196mCOMET ERROR:\u001b[0m Invalid device identifier. Next identifiers won't be parsed.\n",
      "       8/10     0.252G      1.838      1.167      1.028         56        640:  53%|█████▎    | 136/256 [07:12<06:17,  3.15s/it]\u001b[1;38;5;196mCOMET ERROR:\u001b[0m CUDA_VISIBLE_DEVICES contains value of invalid or unsupported format: -1\n",
      "\u001b[1;38;5;196mCOMET ERROR:\u001b[0m Invalid device identifier. Next identifiers won't be parsed.\n",
      "       8/10     0.252G      1.839      1.168      1.029         61        640:  57%|█████▋    | 146/256 [07:44<05:46,  3.15s/it]\u001b[1;38;5;196mCOMET ERROR:\u001b[0m CUDA_VISIBLE_DEVICES contains value of invalid or unsupported format: -1\n",
      "\u001b[1;38;5;196mCOMET ERROR:\u001b[0m Invalid device identifier. Next identifiers won't be parsed.\n",
      "       8/10     0.252G      1.844      1.171      1.027         55        640:  61%|██████    | 156/256 [08:15<05:15,  3.15s/it]\u001b[1;38;5;196mCOMET ERROR:\u001b[0m CUDA_VISIBLE_DEVICES contains value of invalid or unsupported format: -1\n",
      "\u001b[1;38;5;196mCOMET ERROR:\u001b[0m Invalid device identifier. Next identifiers won't be parsed.\n",
      "       8/10     0.252G       1.84      1.164      1.026         57        640:  65%|██████▍   | 166/256 [08:47<04:44,  3.16s/it]\u001b[1;38;5;196mCOMET ERROR:\u001b[0m CUDA_VISIBLE_DEVICES contains value of invalid or unsupported format: -1\n",
      "\u001b[1;38;5;196mCOMET ERROR:\u001b[0m Invalid device identifier. Next identifiers won't be parsed.\n",
      "       8/10     0.252G      1.838      1.162      1.024         65        640:  69%|██████▉   | 176/256 [09:19<04:15,  3.20s/it]\u001b[1;38;5;196mCOMET ERROR:\u001b[0m CUDA_VISIBLE_DEVICES contains value of invalid or unsupported format: -1\n",
      "\u001b[1;38;5;196mCOMET ERROR:\u001b[0m Invalid device identifier. Next identifiers won't be parsed.\n",
      "       8/10     0.252G       1.84       1.16      1.024         44        640:  73%|███████▎  | 186/256 [09:50<03:41,  3.16s/it]\u001b[1;38;5;196mCOMET ERROR:\u001b[0m CUDA_VISIBLE_DEVICES contains value of invalid or unsupported format: -1\n",
      "\u001b[1;38;5;196mCOMET ERROR:\u001b[0m Invalid device identifier. Next identifiers won't be parsed.\n",
      "       8/10     0.252G       1.84      1.159      1.023         43        640:  77%|███████▋  | 196/256 [10:22<03:09,  3.16s/it]\u001b[1;38;5;196mCOMET ERROR:\u001b[0m CUDA_VISIBLE_DEVICES contains value of invalid or unsupported format: -1\n",
      "\u001b[1;38;5;196mCOMET ERROR:\u001b[0m Invalid device identifier. Next identifiers won't be parsed.\n",
      "       8/10     0.252G      1.842       1.16      1.023         40        640:  80%|████████  | 205/256 [10:50<02:40,  3.15s/it]\u001b[1;38;5;196mCOMET ERROR:\u001b[0m CUDA_VISIBLE_DEVICES contains value of invalid or unsupported format: -1\n",
      "\u001b[1;38;5;196mCOMET ERROR:\u001b[0m Invalid device identifier. Next identifiers won't be parsed.\n",
      "       8/10     0.252G      1.839      1.157      1.023         39        640:  84%|████████▍ | 215/256 [11:22<02:10,  3.18s/it]\u001b[1;38;5;196mCOMET ERROR:\u001b[0m CUDA_VISIBLE_DEVICES contains value of invalid or unsupported format: -1\n",
      "\u001b[1;38;5;196mCOMET ERROR:\u001b[0m Invalid device identifier. Next identifiers won't be parsed.\n",
      "       8/10     0.252G      1.839      1.156      1.022         44        640:  88%|████████▊ | 225/256 [11:54<01:42,  3.29s/it]\u001b[1;38;5;196mCOMET ERROR:\u001b[0m CUDA_VISIBLE_DEVICES contains value of invalid or unsupported format: -1\n",
      "\u001b[1;38;5;196mCOMET ERROR:\u001b[0m Invalid device identifier. Next identifiers won't be parsed.\n",
      "       8/10     0.252G      1.842      1.157      1.022         53        640:  92%|█████████▏| 235/256 [12:26<01:06,  3.18s/it]\u001b[1;38;5;196mCOMET ERROR:\u001b[0m CUDA_VISIBLE_DEVICES contains value of invalid or unsupported format: -1\n",
      "\u001b[1;38;5;196mCOMET ERROR:\u001b[0m Invalid device identifier. Next identifiers won't be parsed.\n",
      "       8/10     0.252G      1.837      1.153       1.02         55        640:  95%|█████████▌| 244/256 [12:55<00:38,  3.17s/it]\u001b[1;38;5;196mCOMET ERROR:\u001b[0m CUDA_VISIBLE_DEVICES contains value of invalid or unsupported format: -1\n",
      "\u001b[1;38;5;196mCOMET ERROR:\u001b[0m Invalid device identifier. Next identifiers won't be parsed.\n",
      "       8/10     0.252G      1.836      1.152      1.021         58        640:  99%|█████████▉| 254/256 [13:27<00:06,  3.17s/it]\u001b[1;38;5;196mCOMET ERROR:\u001b[0m CUDA_VISIBLE_DEVICES contains value of invalid or unsupported format: -1\n",
      "\u001b[1;38;5;196mCOMET ERROR:\u001b[0m Invalid device identifier. Next identifiers won't be parsed.\n",
      "       8/10     0.252G      1.836      1.152      1.021         26        640: 100%|██████████| 256/256 [13:32<00:00,  3.18s/it]\n",
      "                 Class     Images  Instances      Box(P          R      mAP50  mAP50-95): 100%|██████████| 13/13 [00:18<00:00,  1.42s/it]"
     ]
    },
    {
     "name": "stdout",
     "output_type": "stream",
     "text": [
      "                   all        400       1291       0.77      0.547      0.613       0.29\n"
     ]
    },
    {
     "name": "stderr",
     "output_type": "stream",
     "text": [
      "\n"
     ]
    },
    {
     "name": "stdout",
     "output_type": "stream",
     "text": [
      "\n",
      "      Epoch    GPU_mem   box_loss   cls_loss   dfl_loss  Instances       Size\n"
     ]
    },
    {
     "name": "stderr",
     "output_type": "stream",
     "text": [
      "       9/10     0.252G      1.594     0.9707      1.005         41        640:   1%|          | 3/256 [00:09<13:00,  3.09s/it]\u001b[1;38;5;196mCOMET ERROR:\u001b[0m CUDA_VISIBLE_DEVICES contains value of invalid or unsupported format: -1\n",
      "\u001b[1;38;5;196mCOMET ERROR:\u001b[0m Invalid device identifier. Next identifiers won't be parsed.\n",
      "       9/10     0.252G      1.773      1.083     0.9897         48        640:   5%|▌         | 13/256 [00:40<12:30,  3.09s/it]\u001b[1;38;5;196mCOMET ERROR:\u001b[0m CUDA_VISIBLE_DEVICES contains value of invalid or unsupported format: -1\n",
      "\u001b[1;38;5;196mCOMET ERROR:\u001b[0m Invalid device identifier. Next identifiers won't be parsed.\n",
      "       9/10     0.252G      1.805      1.109     0.9945         48        640:   9%|▉         | 23/256 [01:11<12:15,  3.16s/it]\u001b[1;38;5;196mCOMET ERROR:\u001b[0m CUDA_VISIBLE_DEVICES contains value of invalid or unsupported format: -1\n",
      "\u001b[1;38;5;196mCOMET ERROR:\u001b[0m Invalid device identifier. Next identifiers won't be parsed.\n",
      "       9/10     0.252G      1.797      1.099     0.9959         56        640:  12%|█▎        | 32/256 [01:40<11:51,  3.18s/it]\u001b[1;38;5;196mCOMET ERROR:\u001b[0m CUDA_VISIBLE_DEVICES contains value of invalid or unsupported format: -1\n",
      "\u001b[1;38;5;196mCOMET ERROR:\u001b[0m Invalid device identifier. Next identifiers won't be parsed.\n",
      "       9/10     0.252G      1.796      1.095      1.004         43        640:  16%|█▋        | 42/256 [02:12<11:20,  3.18s/it]\u001b[1;38;5;196mCOMET ERROR:\u001b[0m CUDA_VISIBLE_DEVICES contains value of invalid or unsupported format: -1\n",
      "\u001b[1;38;5;196mCOMET ERROR:\u001b[0m Invalid device identifier. Next identifiers won't be parsed.\n",
      "       9/10     0.252G      1.782      1.083      1.008         38        640:  20%|██        | 52/256 [02:44<10:42,  3.15s/it]\u001b[1;38;5;196mCOMET ERROR:\u001b[0m CUDA_VISIBLE_DEVICES contains value of invalid or unsupported format: -1\n",
      "\u001b[1;38;5;196mCOMET ERROR:\u001b[0m Invalid device identifier. Next identifiers won't be parsed.\n",
      "       9/10     0.252G      1.782      1.083      1.006         66        640:  24%|██▍       | 61/256 [03:13<10:43,  3.30s/it]\u001b[1;38;5;196mCOMET ERROR:\u001b[0m CUDA_VISIBLE_DEVICES contains value of invalid or unsupported format: -1\n",
      "\u001b[1;38;5;196mCOMET ERROR:\u001b[0m Invalid device identifier. Next identifiers won't be parsed.\n",
      "       9/10     0.252G      1.777      1.078      1.004         67        640:  28%|██▊       | 71/256 [03:45<09:43,  3.16s/it]\u001b[1;38;5;196mCOMET ERROR:\u001b[0m CUDA_VISIBLE_DEVICES contains value of invalid or unsupported format: -1\n",
      "\u001b[1;38;5;196mCOMET ERROR:\u001b[0m Invalid device identifier. Next identifiers won't be parsed.\n",
      "       9/10     0.252G      1.785      1.083      1.006         43        640:  32%|███▏      | 81/256 [04:16<09:10,  3.14s/it]\u001b[1;38;5;196mCOMET ERROR:\u001b[0m CUDA_VISIBLE_DEVICES contains value of invalid or unsupported format: -1\n",
      "\u001b[1;38;5;196mCOMET ERROR:\u001b[0m Invalid device identifier. Next identifiers won't be parsed.\n",
      "       9/10     0.252G      1.781       1.08      1.002         44        640:  36%|███▌      | 91/256 [04:48<08:41,  3.16s/it]\u001b[1;38;5;196mCOMET ERROR:\u001b[0m CUDA_VISIBLE_DEVICES contains value of invalid or unsupported format: -1\n",
      "\u001b[1;38;5;196mCOMET ERROR:\u001b[0m Invalid device identifier. Next identifiers won't be parsed.\n",
      "       9/10     0.252G      1.777      1.079      1.004         43        640:  39%|███▉      | 101/256 [05:19<08:09,  3.16s/it]\u001b[1;38;5;196mCOMET ERROR:\u001b[0m CUDA_VISIBLE_DEVICES contains value of invalid or unsupported format: -1\n",
      "\u001b[1;38;5;196mCOMET ERROR:\u001b[0m Invalid device identifier. Next identifiers won't be parsed.\n",
      "       9/10     0.252G      1.771      1.076      1.003         49        640:  43%|████▎     | 111/256 [05:51<07:36,  3.15s/it]\u001b[1;38;5;196mCOMET ERROR:\u001b[0m CUDA_VISIBLE_DEVICES contains value of invalid or unsupported format: -1\n",
      "\u001b[1;38;5;196mCOMET ERROR:\u001b[0m Invalid device identifier. Next identifiers won't be parsed.\n",
      "       9/10     0.252G      1.765      1.073      1.002         58        640:  47%|████▋     | 121/256 [06:22<07:05,  3.15s/it]\u001b[1;38;5;196mCOMET ERROR:\u001b[0m CUDA_VISIBLE_DEVICES contains value of invalid or unsupported format: -1\n",
      "\u001b[1;38;5;196mCOMET ERROR:\u001b[0m Invalid device identifier. Next identifiers won't be parsed.\n",
      "       9/10     0.252G      1.761      1.065      1.003         46        640:  51%|█████     | 130/256 [06:52<06:49,  3.25s/it]\u001b[1;38;5;196mCOMET ERROR:\u001b[0m CUDA_VISIBLE_DEVICES contains value of invalid or unsupported format: -1\n",
      "\u001b[1;38;5;196mCOMET ERROR:\u001b[0m Invalid device identifier. Next identifiers won't be parsed.\n",
      "       9/10     0.252G      1.758      1.063      1.002         52        640:  55%|█████▍    | 140/256 [07:24<06:14,  3.23s/it]\u001b[1;38;5;196mCOMET ERROR:\u001b[0m CUDA_VISIBLE_DEVICES contains value of invalid or unsupported format: -1\n",
      "\u001b[1;38;5;196mCOMET ERROR:\u001b[0m Invalid device identifier. Next identifiers won't be parsed.\n",
      "       9/10     0.252G      1.758      1.061      1.001         59        640:  59%|█████▊    | 150/256 [07:55<05:31,  3.13s/it]\u001b[1;38;5;196mCOMET ERROR:\u001b[0m CUDA_VISIBLE_DEVICES contains value of invalid or unsupported format: -1\n",
      "\u001b[1;38;5;196mCOMET ERROR:\u001b[0m Invalid device identifier. Next identifiers won't be parsed.\n",
      "       9/10     0.252G      1.754      1.057          1         40        640:  62%|██████▎   | 160/256 [08:27<05:00,  3.13s/it]\u001b[1;38;5;196mCOMET ERROR:\u001b[0m CUDA_VISIBLE_DEVICES contains value of invalid or unsupported format: -1\n",
      "\u001b[1;38;5;196mCOMET ERROR:\u001b[0m Invalid device identifier. Next identifiers won't be parsed.\n",
      "       9/10     0.252G      1.748      1.053     0.9988         36        640:  66%|██████▋   | 170/256 [08:58<04:32,  3.17s/it]\u001b[1;38;5;196mCOMET ERROR:\u001b[0m CUDA_VISIBLE_DEVICES contains value of invalid or unsupported format: -1\n",
      "\u001b[1;38;5;196mCOMET ERROR:\u001b[0m Invalid device identifier. Next identifiers won't be parsed.\n",
      "       9/10     0.252G      1.739      1.047     0.9975         37        640:  70%|███████   | 180/256 [09:30<04:00,  3.17s/it]\u001b[1;38;5;196mCOMET ERROR:\u001b[0m CUDA_VISIBLE_DEVICES contains value of invalid or unsupported format: -1\n",
      "\u001b[1;38;5;196mCOMET ERROR:\u001b[0m Invalid device identifier. Next identifiers won't be parsed.\n",
      "       9/10     0.252G      1.739      1.049      0.998         56        640:  74%|███████▍  | 189/256 [09:58<03:30,  3.14s/it]\u001b[1;38;5;196mCOMET ERROR:\u001b[0m CUDA_VISIBLE_DEVICES contains value of invalid or unsupported format: -1\n",
      "\u001b[1;38;5;196mCOMET ERROR:\u001b[0m Invalid device identifier. Next identifiers won't be parsed.\n",
      "       9/10     0.252G      1.744      1.054      0.997         64        640:  78%|███████▊  | 199/256 [10:30<02:59,  3.15s/it]\u001b[1;38;5;196mCOMET ERROR:\u001b[0m CUDA_VISIBLE_DEVICES contains value of invalid or unsupported format: -1\n",
      "\u001b[1;38;5;196mCOMET ERROR:\u001b[0m Invalid device identifier. Next identifiers won't be parsed.\n",
      "       9/10     0.252G      1.747      1.058     0.9972         57        640:  82%|████████▏ | 209/256 [11:02<02:31,  3.21s/it]\u001b[1;38;5;196mCOMET ERROR:\u001b[0m CUDA_VISIBLE_DEVICES contains value of invalid or unsupported format: -1\n",
      "\u001b[1;38;5;196mCOMET ERROR:\u001b[0m Invalid device identifier. Next identifiers won't be parsed.\n",
      "       9/10     0.252G      1.747      1.056     0.9976         58        640:  86%|████████▌ | 219/256 [11:34<01:56,  3.15s/it]\u001b[1;38;5;196mCOMET ERROR:\u001b[0m CUDA_VISIBLE_DEVICES contains value of invalid or unsupported format: -1\n",
      "\u001b[1;38;5;196mCOMET ERROR:\u001b[0m Invalid device identifier. Next identifiers won't be parsed.\n",
      "       9/10     0.252G      1.749      1.058     0.9974         47        640:  89%|████████▉ | 229/256 [12:06<01:24,  3.14s/it]\u001b[1;38;5;196mCOMET ERROR:\u001b[0m CUDA_VISIBLE_DEVICES contains value of invalid or unsupported format: -1\n",
      "\u001b[1;38;5;196mCOMET ERROR:\u001b[0m Invalid device identifier. Next identifiers won't be parsed.\n",
      "       9/10     0.252G      1.751      1.059     0.9983         57        640:  93%|█████████▎| 238/256 [12:35<00:57,  3.22s/it]\u001b[1;38;5;196mCOMET ERROR:\u001b[0m CUDA_VISIBLE_DEVICES contains value of invalid or unsupported format: -1\n",
      "\u001b[1;38;5;196mCOMET ERROR:\u001b[0m Invalid device identifier. Next identifiers won't be parsed.\n",
      "       9/10     0.252G      1.747      1.057     0.9979         45        640:  97%|█████████▋| 248/256 [13:07<00:25,  3.24s/it]\u001b[1;38;5;196mCOMET ERROR:\u001b[0m CUDA_VISIBLE_DEVICES contains value of invalid or unsupported format: -1\n",
      "\u001b[1;38;5;196mCOMET ERROR:\u001b[0m Invalid device identifier. Next identifiers won't be parsed.\n",
      "       9/10     0.252G      1.748      1.058     0.9972         43        640: 100%|██████████| 256/256 [13:31<00:00,  3.17s/it]\n",
      "                 Class     Images  Instances      Box(P          R      mAP50  mAP50-95):  46%|████▌     | 6/13 [00:08<00:09,  1.36s/it]\u001b[1;38;5;196mCOMET ERROR:\u001b[0m CUDA_VISIBLE_DEVICES contains value of invalid or unsupported format: -1\n",
      "\u001b[1;38;5;196mCOMET ERROR:\u001b[0m Invalid device identifier. Next identifiers won't be parsed.\n",
      "                 Class     Images  Instances      Box(P          R      mAP50  mAP50-95): 100%|██████████| 13/13 [00:18<00:00,  1.41s/it]"
     ]
    },
    {
     "name": "stdout",
     "output_type": "stream",
     "text": [
      "                   all        400       1291      0.792      0.566      0.647      0.313\n"
     ]
    },
    {
     "name": "stderr",
     "output_type": "stream",
     "text": [
      "\n"
     ]
    },
    {
     "name": "stdout",
     "output_type": "stream",
     "text": [
      "\n",
      "      Epoch    GPU_mem   box_loss   cls_loss   dfl_loss  Instances       Size\n"
     ]
    },
    {
     "name": "stderr",
     "output_type": "stream",
     "text": [
      "      10/10     0.252G      1.674       1.03      1.026         53        640:   2%|▏         | 6/256 [00:18<12:50,  3.08s/it]\u001b[1;38;5;196mCOMET ERROR:\u001b[0m CUDA_VISIBLE_DEVICES contains value of invalid or unsupported format: -1\n",
      "\u001b[1;38;5;196mCOMET ERROR:\u001b[0m Invalid device identifier. Next identifiers won't be parsed.\n",
      "      10/10     0.252G      1.746      1.031      1.002         34        640:   6%|▋         | 16/256 [00:49<12:39,  3.16s/it]\u001b[1;38;5;196mCOMET ERROR:\u001b[0m CUDA_VISIBLE_DEVICES contains value of invalid or unsupported format: -1\n",
      "\u001b[1;38;5;196mCOMET ERROR:\u001b[0m Invalid device identifier. Next identifiers won't be parsed.\n",
      "      10/10     0.252G      1.785      1.053      1.008         65        640:  10%|█         | 26/256 [01:21<12:07,  3.17s/it]\u001b[1;38;5;196mCOMET ERROR:\u001b[0m CUDA_VISIBLE_DEVICES contains value of invalid or unsupported format: -1\n",
      "\u001b[1;38;5;196mCOMET ERROR:\u001b[0m Invalid device identifier. Next identifiers won't be parsed.\n",
      "      10/10     0.252G      1.771      1.039     0.9968         36        640:  14%|█▍        | 36/256 [01:52<11:28,  3.13s/it]\u001b[1;38;5;196mCOMET ERROR:\u001b[0m CUDA_VISIBLE_DEVICES contains value of invalid or unsupported format: -1\n",
      "\u001b[1;38;5;196mCOMET ERROR:\u001b[0m Invalid device identifier. Next identifiers won't be parsed.\n",
      "      10/10     0.252G      1.759      1.041     0.9915         53        640:  18%|█▊        | 46/256 [02:25<12:39,  3.62s/it]\u001b[1;38;5;196mCOMET ERROR:\u001b[0m CUDA_VISIBLE_DEVICES contains value of invalid or unsupported format: -1\n",
      "\u001b[1;38;5;196mCOMET ERROR:\u001b[0m Invalid device identifier. Next identifiers won't be parsed.\n",
      "      10/10     0.252G      1.737      1.022      0.988         54        640:  21%|██▏       | 55/256 [02:54<10:32,  3.15s/it]\u001b[1;38;5;196mCOMET ERROR:\u001b[0m CUDA_VISIBLE_DEVICES contains value of invalid or unsupported format: -1\n",
      "\u001b[1;38;5;196mCOMET ERROR:\u001b[0m Invalid device identifier. Next identifiers won't be parsed.\n",
      "      10/10     0.252G      1.733      1.021     0.9888         47        640:  25%|██▌       | 65/256 [03:26<10:18,  3.24s/it]\u001b[1;38;5;196mCOMET ERROR:\u001b[0m CUDA_VISIBLE_DEVICES contains value of invalid or unsupported format: -1\n",
      "\u001b[1;38;5;196mCOMET ERROR:\u001b[0m Invalid device identifier. Next identifiers won't be parsed.\n",
      "      10/10     0.252G      1.718       1.01     0.9863         62        640:  29%|██▉       | 75/256 [03:58<09:27,  3.14s/it]\u001b[1;38;5;196mCOMET ERROR:\u001b[0m CUDA_VISIBLE_DEVICES contains value of invalid or unsupported format: -1\n",
      "\u001b[1;38;5;196mCOMET ERROR:\u001b[0m Invalid device identifier. Next identifiers won't be parsed.\n",
      "      10/10     0.252G      1.723      1.005     0.9868         45        640:  33%|███▎      | 85/256 [04:29<08:55,  3.13s/it]\u001b[1;38;5;196mCOMET ERROR:\u001b[0m CUDA_VISIBLE_DEVICES contains value of invalid or unsupported format: -1\n",
      "\u001b[1;38;5;196mCOMET ERROR:\u001b[0m Invalid device identifier. Next identifiers won't be parsed.\n",
      "      10/10     0.252G      1.718      1.003     0.9864         53        640:  37%|███▋      | 95/256 [05:01<08:30,  3.17s/it]\u001b[1;38;5;196mCOMET ERROR:\u001b[0m CUDA_VISIBLE_DEVICES contains value of invalid or unsupported format: -1\n",
      "\u001b[1;38;5;196mCOMET ERROR:\u001b[0m Invalid device identifier. Next identifiers won't be parsed.\n",
      "      10/10     0.252G      1.715     0.9993     0.9844         56        640:  41%|████      | 104/256 [05:29<08:01,  3.17s/it]\u001b[1;38;5;196mCOMET ERROR:\u001b[0m CUDA_VISIBLE_DEVICES contains value of invalid or unsupported format: -1\n",
      "\u001b[1;38;5;196mCOMET ERROR:\u001b[0m Invalid device identifier. Next identifiers won't be parsed.\n",
      "      10/10     0.252G      1.703     0.9909      0.984         47        640:  45%|████▍     | 114/256 [06:01<07:26,  3.15s/it]\u001b[1;38;5;196mCOMET ERROR:\u001b[0m CUDA_VISIBLE_DEVICES contains value of invalid or unsupported format: -1\n",
      "\u001b[1;38;5;196mCOMET ERROR:\u001b[0m Invalid device identifier. Next identifiers won't be parsed.\n",
      "      10/10     0.252G      1.698     0.9904     0.9834         47        640:  48%|████▊     | 124/256 [06:33<07:01,  3.19s/it]\u001b[1;38;5;196mCOMET ERROR:\u001b[0m CUDA_VISIBLE_DEVICES contains value of invalid or unsupported format: -1\n",
      "\u001b[1;38;5;196mCOMET ERROR:\u001b[0m Invalid device identifier. Next identifiers won't be parsed.\n",
      "      10/10     0.252G      1.694     0.9909     0.9819         36        640:  52%|█████▏    | 134/256 [07:04<06:22,  3.13s/it]\u001b[1;38;5;196mCOMET ERROR:\u001b[0m CUDA_VISIBLE_DEVICES contains value of invalid or unsupported format: -1\n",
      "\u001b[1;38;5;196mCOMET ERROR:\u001b[0m Invalid device identifier. Next identifiers won't be parsed.\n",
      "      10/10     0.252G      1.691     0.9885     0.9805         54        640:  56%|█████▋    | 144/256 [07:37<06:11,  3.31s/it]\u001b[1;38;5;196mCOMET ERROR:\u001b[0m CUDA_VISIBLE_DEVICES contains value of invalid or unsupported format: -1\n",
      "\u001b[1;38;5;196mCOMET ERROR:\u001b[0m Invalid device identifier. Next identifiers won't be parsed.\n",
      "      10/10     0.252G      1.694     0.9885     0.9791         52        640:  60%|██████    | 154/256 [08:08<05:26,  3.20s/it]\u001b[1;38;5;196mCOMET ERROR:\u001b[0m CUDA_VISIBLE_DEVICES contains value of invalid or unsupported format: -1\n",
      "\u001b[1;38;5;196mCOMET ERROR:\u001b[0m Invalid device identifier. Next identifiers won't be parsed.\n",
      "      10/10     0.252G      1.695     0.9879     0.9775         48        640:  64%|██████▎   | 163/256 [08:37<04:53,  3.15s/it]\u001b[1;38;5;196mCOMET ERROR:\u001b[0m CUDA_VISIBLE_DEVICES contains value of invalid or unsupported format: -1\n",
      "\u001b[1;38;5;196mCOMET ERROR:\u001b[0m Invalid device identifier. Next identifiers won't be parsed.\n",
      "      10/10     0.252G      1.691      0.985     0.9767         54        640:  68%|██████▊   | 173/256 [09:08<04:21,  3.16s/it]\u001b[1;38;5;196mCOMET ERROR:\u001b[0m CUDA_VISIBLE_DEVICES contains value of invalid or unsupported format: -1\n",
      "\u001b[1;38;5;196mCOMET ERROR:\u001b[0m Invalid device identifier. Next identifiers won't be parsed.\n",
      "      10/10     0.252G      1.692     0.9862     0.9758         46        640:  71%|███████▏  | 183/256 [09:40<03:50,  3.16s/it]\u001b[1;38;5;196mCOMET ERROR:\u001b[0m CUDA_VISIBLE_DEVICES contains value of invalid or unsupported format: -1\n",
      "\u001b[1;38;5;196mCOMET ERROR:\u001b[0m Invalid device identifier. Next identifiers won't be parsed.\n",
      "      10/10     0.252G      1.689     0.9842     0.9762         37        640:  75%|███████▌  | 193/256 [10:11<03:17,  3.14s/it]\u001b[1;38;5;196mCOMET ERROR:\u001b[0m CUDA_VISIBLE_DEVICES contains value of invalid or unsupported format: -1\n",
      "\u001b[1;38;5;196mCOMET ERROR:\u001b[0m Invalid device identifier. Next identifiers won't be parsed.\n",
      "      10/10     0.252G      1.686     0.9809     0.9767         56        640:  79%|███████▉  | 203/256 [10:43<02:47,  3.16s/it]\u001b[1;38;5;196mCOMET ERROR:\u001b[0m CUDA_VISIBLE_DEVICES contains value of invalid or unsupported format: -1\n",
      "\u001b[1;38;5;196mCOMET ERROR:\u001b[0m Invalid device identifier. Next identifiers won't be parsed.\n",
      "      10/10     0.252G      1.685     0.9782     0.9768         59        640:  83%|████████▎ | 213/256 [11:14<02:15,  3.14s/it]\u001b[1;38;5;196mCOMET ERROR:\u001b[0m CUDA_VISIBLE_DEVICES contains value of invalid or unsupported format: -1\n",
      "\u001b[1;38;5;196mCOMET ERROR:\u001b[0m Invalid device identifier. Next identifiers won't be parsed.\n",
      "      10/10     0.252G      1.685     0.9764     0.9761         45        640:  87%|████████▋ | 223/256 [11:46<01:44,  3.17s/it]\u001b[1;38;5;196mCOMET ERROR:\u001b[0m CUDA_VISIBLE_DEVICES contains value of invalid or unsupported format: -1\n",
      "\u001b[1;38;5;196mCOMET ERROR:\u001b[0m Invalid device identifier. Next identifiers won't be parsed.\n",
      "      10/10     0.252G      1.686     0.9768     0.9753         50        640:  91%|█████████ | 232/256 [12:15<01:18,  3.25s/it]\u001b[1;38;5;196mCOMET ERROR:\u001b[0m CUDA_VISIBLE_DEVICES contains value of invalid or unsupported format: -1\n",
      "\u001b[1;38;5;196mCOMET ERROR:\u001b[0m Invalid device identifier. Next identifiers won't be parsed.\n",
      "      10/10     0.252G      1.689     0.9783     0.9758         41        640:  95%|█████████▍| 242/256 [12:47<00:44,  3.18s/it]\u001b[1;38;5;196mCOMET ERROR:\u001b[0m CUDA_VISIBLE_DEVICES contains value of invalid or unsupported format: -1\n",
      "\u001b[1;38;5;196mCOMET ERROR:\u001b[0m Invalid device identifier. Next identifiers won't be parsed.\n",
      "      10/10     0.252G      1.684     0.9764     0.9756         53        640:  98%|█████████▊| 252/256 [13:18<00:12,  3.15s/it]\u001b[1;38;5;196mCOMET ERROR:\u001b[0m CUDA_VISIBLE_DEVICES contains value of invalid or unsupported format: -1\n",
      "\u001b[1;38;5;196mCOMET ERROR:\u001b[0m Invalid device identifier. Next identifiers won't be parsed.\n",
      "      10/10     0.252G      1.684      0.976      0.976         25        640: 100%|██████████| 256/256 [13:30<00:00,  3.17s/it]\n",
      "                 Class     Images  Instances      Box(P          R      mAP50  mAP50-95): 100%|██████████| 13/13 [00:18<00:00,  1.43s/it]"
     ]
    },
    {
     "name": "stdout",
     "output_type": "stream",
     "text": [
      "                   all        400       1291      0.838      0.613        0.7      0.346\n"
     ]
    },
    {
     "name": "stderr",
     "output_type": "stream",
     "text": [
      "\n"
     ]
    },
    {
     "name": "stdout",
     "output_type": "stream",
     "text": [
      "\n",
      "10 epochs completed in 2.303 hours.\n",
      "Optimizer stripped from runs\\detect\\train22\\weights\\last.pt, 6.2MB\n",
      "Optimizer stripped from runs\\detect\\train22\\weights\\best.pt, 6.2MB\n",
      "\n",
      "Validating runs\\detect\\train22\\weights\\best.pt...\n",
      "Ultralytics YOLOv8.1.26 🚀 Python-3.11.8 torch-2.2.1+cu121 CPU (AMD Ryzen 7 5700X 8-Core Processor)\n",
      "Model summary (fused): 168 layers, 3005843 parameters, 0 gradients, 8.1 GFLOPs\n"
     ]
    },
    {
     "name": "stderr",
     "output_type": "stream",
     "text": [
      "                 Class     Images  Instances      Box(P          R      mAP50  mAP50-95):   0%|          | 0/13 [00:00<?, ?it/s]\u001b[1;38;5;196mCOMET ERROR:\u001b[0m CUDA_VISIBLE_DEVICES contains value of invalid or unsupported format: -1\n",
      "\u001b[1;38;5;196mCOMET ERROR:\u001b[0m Invalid device identifier. Next identifiers won't be parsed.\n",
      "                 Class     Images  Instances      Box(P          R      mAP50  mAP50-95): 100%|██████████| 13/13 [00:16<00:00,  1.24s/it]\n"
     ]
    },
    {
     "name": "stdout",
     "output_type": "stream",
     "text": [
      "                   all        400       1291      0.837      0.618        0.7      0.347\n",
      "Speed: 0.7ms preprocess, 33.3ms inference, 0.0ms loss, 0.3ms postprocess per image\n",
      "Results saved to \u001b[1mruns\\detect\\train22\u001b[0m\n"
     ]
    },
    {
     "name": "stderr",
     "output_type": "stream",
     "text": [
      "\u001b[1;38;5;39mCOMET INFO:\u001b[0m ---------------------------------------------------------------------------------------\n",
      "\u001b[1;38;5;39mCOMET INFO:\u001b[0m Comet.ml Experiment Summary\n",
      "\u001b[1;38;5;39mCOMET INFO:\u001b[0m ---------------------------------------------------------------------------------------\n",
      "\u001b[1;38;5;39mCOMET INFO:\u001b[0m   Data:\n",
      "\u001b[1;38;5;39mCOMET INFO:\u001b[0m     display_summary_level : 1\n",
      "\u001b[1;38;5;39mCOMET INFO:\u001b[0m     url                   : https://www.comet.com/amelianhearts/general/957fd8a7f3924b079174507941cbf34f\n",
      "\u001b[1;38;5;39mCOMET INFO:\u001b[0m   Metrics [count] (min, max):\n",
      "\u001b[1;38;5;39mCOMET INFO:\u001b[0m     lr/pg0 [11]               : (0.0004159999999999999, 0.0016019114583333334)\n",
      "\u001b[1;38;5;39mCOMET INFO:\u001b[0m     lr/pg1 [11]               : (0.0004159999999999999, 0.0016019114583333334)\n",
      "\u001b[1;38;5;39mCOMET INFO:\u001b[0m     lr/pg2 [11]               : (0.0004159999999999999, 0.0016019114583333334)\n",
      "\u001b[1;38;5;39mCOMET INFO:\u001b[0m     metrics/mAP50(B) [11]     : (0.14816, 0.7002655781846404)\n",
      "\u001b[1;38;5;39mCOMET INFO:\u001b[0m     metrics/mAP50-95(B) [11]  : (0.05602, 0.3465005804279756)\n",
      "\u001b[1;38;5;39mCOMET INFO:\u001b[0m     metrics/precision(B) [11] : (0.31346, 0.83793)\n",
      "\u001b[1;38;5;39mCOMET INFO:\u001b[0m     metrics/recall(B) [11]    : (0.18638, 0.6183997211378479)\n",
      "\u001b[1;38;5;39mCOMET INFO:\u001b[0m     model/GFLOPs              : 8.194\n",
      "\u001b[1;38;5;39mCOMET INFO:\u001b[0m     model/parameters          : 3011043\n",
      "\u001b[1;38;5;39mCOMET INFO:\u001b[0m     model/speed_PyTorch(ms)   : 36.467\n",
      "\u001b[1;38;5;39mCOMET INFO:\u001b[0m     train/box_loss [10]       : (1.68433, 2.51605)\n",
      "\u001b[1;38;5;39mCOMET INFO:\u001b[0m     train/cls_loss [10]       : (0.97598, 3.59451)\n",
      "\u001b[1;38;5;39mCOMET INFO:\u001b[0m     train/dfl_loss [10]       : (0.976, 1.25373)\n",
      "\u001b[1;38;5;39mCOMET INFO:\u001b[0m     val/box_loss [10]         : (1.73896, 2.72209)\n",
      "\u001b[1;38;5;39mCOMET INFO:\u001b[0m     val/cls_loss [10]         : (0.98704, 2.85426)\n",
      "\u001b[1;38;5;39mCOMET INFO:\u001b[0m     val/dfl_loss [10]         : (1.00217, 1.38071)\n",
      "\u001b[1;38;5;39mCOMET INFO:\u001b[0m   Others:\n",
      "\u001b[1;38;5;39mCOMET INFO:\u001b[0m     Created from                 : yolov8\n",
      "\u001b[1;38;5;39mCOMET INFO:\u001b[0m     eval_batch_logging_interval  : 1\n",
      "\u001b[1;38;5;39mCOMET INFO:\u001b[0m     log_confusion_matrix_on_eval : False\n",
      "\u001b[1;38;5;39mCOMET INFO:\u001b[0m     log_image_predictions        : True\n",
      "\u001b[1;38;5;39mCOMET INFO:\u001b[0m     max_image_predictions        : 100\n",
      "\u001b[1;38;5;39mCOMET INFO:\u001b[0m   Parameters:\n",
      "\u001b[1;38;5;39mCOMET INFO:\u001b[0m     agnostic_nms    : False\n",
      "\u001b[1;38;5;39mCOMET INFO:\u001b[0m     amp             : True\n",
      "\u001b[1;38;5;39mCOMET INFO:\u001b[0m     augment         : False\n",
      "\u001b[1;38;5;39mCOMET INFO:\u001b[0m     auto_augment    : randaugment\n",
      "\u001b[1;38;5;39mCOMET INFO:\u001b[0m     batch           : 16\n",
      "\u001b[1;38;5;39mCOMET INFO:\u001b[0m     box             : 7.5\n",
      "\u001b[1;38;5;39mCOMET INFO:\u001b[0m     cache           : False\n",
      "\u001b[1;38;5;39mCOMET INFO:\u001b[0m     cfg             : None\n",
      "\u001b[1;38;5;39mCOMET INFO:\u001b[0m     classes         : None\n",
      "\u001b[1;38;5;39mCOMET INFO:\u001b[0m     close_mosaic    : 10\n",
      "\u001b[1;38;5;39mCOMET INFO:\u001b[0m     cls             : 0.5\n",
      "\u001b[1;38;5;39mCOMET INFO:\u001b[0m     conf            : None\n",
      "\u001b[1;38;5;39mCOMET INFO:\u001b[0m     copy_paste      : 0.0\n",
      "\u001b[1;38;5;39mCOMET INFO:\u001b[0m     cos_lr          : False\n",
      "\u001b[1;38;5;39mCOMET INFO:\u001b[0m     crop_fraction   : 1.0\n",
      "\u001b[1;38;5;39mCOMET INFO:\u001b[0m     data            : data.yaml\n",
      "\u001b[1;38;5;39mCOMET INFO:\u001b[0m     degrees         : 0.0\n",
      "\u001b[1;38;5;39mCOMET INFO:\u001b[0m     deterministic   : True\n",
      "\u001b[1;38;5;39mCOMET INFO:\u001b[0m     device          : cpu\n",
      "\u001b[1;38;5;39mCOMET INFO:\u001b[0m     dfl             : 1.5\n",
      "\u001b[1;38;5;39mCOMET INFO:\u001b[0m     dnn             : False\n",
      "\u001b[1;38;5;39mCOMET INFO:\u001b[0m     dropout         : 0.0\n",
      "\u001b[1;38;5;39mCOMET INFO:\u001b[0m     dynamic         : False\n",
      "\u001b[1;38;5;39mCOMET INFO:\u001b[0m     embed           : None\n",
      "\u001b[1;38;5;39mCOMET INFO:\u001b[0m     epochs          : 10\n",
      "\u001b[1;38;5;39mCOMET INFO:\u001b[0m     erasing         : 0.4\n",
      "\u001b[1;38;5;39mCOMET INFO:\u001b[0m     exist_ok        : False\n",
      "\u001b[1;38;5;39mCOMET INFO:\u001b[0m     fliplr          : 0.5\n",
      "\u001b[1;38;5;39mCOMET INFO:\u001b[0m     flipud          : 0.0\n",
      "\u001b[1;38;5;39mCOMET INFO:\u001b[0m     format          : torchscript\n",
      "\u001b[1;38;5;39mCOMET INFO:\u001b[0m     fraction        : 1.0\n",
      "\u001b[1;38;5;39mCOMET INFO:\u001b[0m     freeze          : None\n",
      "\u001b[1;38;5;39mCOMET INFO:\u001b[0m     half            : False\n",
      "\u001b[1;38;5;39mCOMET INFO:\u001b[0m     hsv_h           : 0.015\n",
      "\u001b[1;38;5;39mCOMET INFO:\u001b[0m     hsv_s           : 0.7\n",
      "\u001b[1;38;5;39mCOMET INFO:\u001b[0m     hsv_v           : 0.4\n",
      "\u001b[1;38;5;39mCOMET INFO:\u001b[0m     imgsz           : 640\n",
      "\u001b[1;38;5;39mCOMET INFO:\u001b[0m     int8            : False\n",
      "\u001b[1;38;5;39mCOMET INFO:\u001b[0m     iou             : 0.7\n",
      "\u001b[1;38;5;39mCOMET INFO:\u001b[0m     keras           : False\n",
      "\u001b[1;38;5;39mCOMET INFO:\u001b[0m     kobj            : 1.0\n",
      "\u001b[1;38;5;39mCOMET INFO:\u001b[0m     label_smoothing : 0.0\n",
      "\u001b[1;38;5;39mCOMET INFO:\u001b[0m     line_width      : None\n",
      "\u001b[1;38;5;39mCOMET INFO:\u001b[0m     lr0             : 0.01\n",
      "\u001b[1;38;5;39mCOMET INFO:\u001b[0m     lrf             : 0.01\n",
      "\u001b[1;38;5;39mCOMET INFO:\u001b[0m     mask_ratio      : 4\n",
      "\u001b[1;38;5;39mCOMET INFO:\u001b[0m     max_det         : 300\n",
      "\u001b[1;38;5;39mCOMET INFO:\u001b[0m     mixup           : 0.0\n",
      "\u001b[1;38;5;39mCOMET INFO:\u001b[0m     mode            : train\n",
      "\u001b[1;38;5;39mCOMET INFO:\u001b[0m     model           : yolov8n.pt\n",
      "\u001b[1;38;5;39mCOMET INFO:\u001b[0m     momentum        : 0.937\n",
      "\u001b[1;38;5;39mCOMET INFO:\u001b[0m     mosaic          : 1.0\n",
      "\u001b[1;38;5;39mCOMET INFO:\u001b[0m     multi_scale     : False\n",
      "\u001b[1;38;5;39mCOMET INFO:\u001b[0m     name            : train22\n",
      "\u001b[1;38;5;39mCOMET INFO:\u001b[0m     nbs             : 64\n",
      "\u001b[1;38;5;39mCOMET INFO:\u001b[0m     nms             : False\n",
      "\u001b[1;38;5;39mCOMET INFO:\u001b[0m     opset           : None\n",
      "\u001b[1;38;5;39mCOMET INFO:\u001b[0m     optimize        : False\n",
      "\u001b[1;38;5;39mCOMET INFO:\u001b[0m     optimizer       : auto\n",
      "\u001b[1;38;5;39mCOMET INFO:\u001b[0m     overlap_mask    : True\n",
      "\u001b[1;38;5;39mCOMET INFO:\u001b[0m     patience        : 100\n",
      "\u001b[1;38;5;39mCOMET INFO:\u001b[0m     perspective     : 0.0\n",
      "\u001b[1;38;5;39mCOMET INFO:\u001b[0m     plots           : True\n",
      "\u001b[1;38;5;39mCOMET INFO:\u001b[0m     pose            : 12.0\n",
      "\u001b[1;38;5;39mCOMET INFO:\u001b[0m     pretrained      : True\n",
      "\u001b[1;38;5;39mCOMET INFO:\u001b[0m     profile         : False\n",
      "\u001b[1;38;5;39mCOMET INFO:\u001b[0m     project         : None\n",
      "\u001b[1;38;5;39mCOMET INFO:\u001b[0m     rect            : False\n",
      "\u001b[1;38;5;39mCOMET INFO:\u001b[0m     resume          : False\n",
      "\u001b[1;38;5;39mCOMET INFO:\u001b[0m     retina_masks    : False\n",
      "\u001b[1;38;5;39mCOMET INFO:\u001b[0m     save            : True\n",
      "\u001b[1;38;5;39mCOMET INFO:\u001b[0m     save_conf       : False\n",
      "\u001b[1;38;5;39mCOMET INFO:\u001b[0m     save_crop       : False\n",
      "\u001b[1;38;5;39mCOMET INFO:\u001b[0m     save_dir        : runs\\detect\\train22\n",
      "\u001b[1;38;5;39mCOMET INFO:\u001b[0m     save_frames     : False\n",
      "\u001b[1;38;5;39mCOMET INFO:\u001b[0m     save_hybrid     : False\n",
      "\u001b[1;38;5;39mCOMET INFO:\u001b[0m     save_json       : False\n",
      "\u001b[1;38;5;39mCOMET INFO:\u001b[0m     save_period     : -1\n",
      "\u001b[1;38;5;39mCOMET INFO:\u001b[0m     save_txt        : False\n",
      "\u001b[1;38;5;39mCOMET INFO:\u001b[0m     scale           : 0.5\n",
      "\u001b[1;38;5;39mCOMET INFO:\u001b[0m     seed            : 0\n",
      "\u001b[1;38;5;39mCOMET INFO:\u001b[0m     shear           : 0.0\n",
      "\u001b[1;38;5;39mCOMET INFO:\u001b[0m     show            : False\n",
      "\u001b[1;38;5;39mCOMET INFO:\u001b[0m     show_boxes      : True\n",
      "\u001b[1;38;5;39mCOMET INFO:\u001b[0m     show_conf       : True\n",
      "\u001b[1;38;5;39mCOMET INFO:\u001b[0m     show_labels     : True\n",
      "\u001b[1;38;5;39mCOMET INFO:\u001b[0m     simplify        : False\n",
      "\u001b[1;38;5;39mCOMET INFO:\u001b[0m     single_cls      : False\n",
      "\u001b[1;38;5;39mCOMET INFO:\u001b[0m     source          : None\n",
      "\u001b[1;38;5;39mCOMET INFO:\u001b[0m     split           : val\n",
      "\u001b[1;38;5;39mCOMET INFO:\u001b[0m     stream_buffer   : False\n",
      "\u001b[1;38;5;39mCOMET INFO:\u001b[0m     task            : detect\n",
      "\u001b[1;38;5;39mCOMET INFO:\u001b[0m     time            : None\n",
      "\u001b[1;38;5;39mCOMET INFO:\u001b[0m     tracker         : botsort.yaml\n",
      "\u001b[1;38;5;39mCOMET INFO:\u001b[0m     translate       : 0.1\n",
      "\u001b[1;38;5;39mCOMET INFO:\u001b[0m     val             : True\n",
      "\u001b[1;38;5;39mCOMET INFO:\u001b[0m     verbose         : True\n",
      "\u001b[1;38;5;39mCOMET INFO:\u001b[0m     vid_stride      : 1\n",
      "\u001b[1;38;5;39mCOMET INFO:\u001b[0m     visualize       : False\n",
      "\u001b[1;38;5;39mCOMET INFO:\u001b[0m     warmup_bias_lr  : 0.1\n",
      "\u001b[1;38;5;39mCOMET INFO:\u001b[0m     warmup_epochs   : 3.0\n",
      "\u001b[1;38;5;39mCOMET INFO:\u001b[0m     warmup_momentum : 0.8\n",
      "\u001b[1;38;5;39mCOMET INFO:\u001b[0m     weight_decay    : 0.0005\n",
      "\u001b[1;38;5;39mCOMET INFO:\u001b[0m     workers         : 0\n",
      "\u001b[1;38;5;39mCOMET INFO:\u001b[0m     workspace       : 4\n",
      "\u001b[1;38;5;39mCOMET INFO:\u001b[0m   Uploads:\n",
      "\u001b[1;38;5;39mCOMET INFO:\u001b[0m     confusion-matrix    : 1\n",
      "\u001b[1;38;5;39mCOMET INFO:\u001b[0m     environment details : 1\n",
      "\u001b[1;38;5;39mCOMET INFO:\u001b[0m     filename            : 1\n",
      "\u001b[1;38;5;39mCOMET INFO:\u001b[0m     images              : 10\n",
      "\u001b[1;38;5;39mCOMET INFO:\u001b[0m     installed packages  : 1\n",
      "\u001b[1;38;5;39mCOMET INFO:\u001b[0m     model-element       : 1 (5.96 MB)\n",
      "\u001b[1;38;5;39mCOMET INFO:\u001b[0m     notebook            : 1\n",
      "\u001b[1;38;5;39mCOMET INFO:\u001b[0m     source_code         : 1\n",
      "\u001b[1;38;5;39mCOMET INFO:\u001b[0m \n",
      "\u001b[1;38;5;214mCOMET WARNING:\u001b[0m To get all data logged automatically, import comet_ml before the following modules: torch.\n",
      "\u001b[1;38;5;39mCOMET INFO:\u001b[0m Please wait for assets to finish uploading (timeout is 10800 seconds)\n",
      "\u001b[1;38;5;39mCOMET INFO:\u001b[0m Still uploading 2 file(s), remaining 5.61 MB/6.19 MB\n"
     ]
    }
   ],
   "source": [
    "# Load YOLOv8n, train it on COCO128 for 3 epochs and predict an image with it\n",
    "from ultralytics import YOLO\n",
    "\n",
    "model = YOLO('yolov8n.pt')  # load a pretrained YOLOv8n detection model\n",
    "results = model.train(data='data.yaml', epochs=10, imgsz = 640, device = 'cpu')  # train the model\n",
    "#model('pexels-photo-13912061.jpg')  # predict on an image"
   ]
  },
  {
   "cell_type": "code",
   "execution_count": 46,
   "metadata": {},
   "outputs": [
    {
     "name": "stdout",
     "output_type": "stream",
     "text": [
      "Ultralytics YOLOv8.1.26 🚀 Python-3.11.8 torch-2.2.1+cu121 CPU (AMD Ryzen 7 5700X 8-Core Processor)\n",
      "YOLOv8n summary (fused): 168 layers, 3151904 parameters, 0 gradients, 8.7 GFLOPs\n",
      "                   all        400       1291      0.244      0.112      0.107     0.0477\n",
      "                person        400       1291      0.244      0.112      0.107     0.0477\n",
      "Speed: 0.5ms preprocess, 32.6ms inference, 0.0ms loss, 0.6ms postprocess per image\n",
      "Results saved to \u001b[1mruns\\detect\\val\u001b[0m\n",
      "💡 Learn more at https://docs.ultralytics.com/modes/val\n"
     ]
    },
    {
     "name": "stderr",
     "output_type": "stream",
     "text": [
      "\n",
      "\u001b[34m\u001b[1mval: \u001b[0mScanning C:\\Users\\izzyj\\Downloads\\datasets\\valid\\labels.cache... 400 images, 0 backgrounds, 0 corrupt: 100%|██████████| 400/400 [00:00<?, ?it/s]\n",
      "\u001b[34m\u001b[1mval: \u001b[0mScanning C:\\Users\\izzyj\\Downloads\\datasets\\valid\\labels.cache... 400 images, 0 backgrounds, 0 corrupt: 100%|██████████| 400/400 [00:00<?, ?it/s]\n",
      "\n",
      "                 Class     Images  Instances      Box(P          R      mAP50  mAP50-95):   0%|          | 0/25 [00:00<?, ?it/s]\n",
      "                 Class     Images  Instances      Box(P          R      mAP50  mAP50-95):   4%|▍         | 1/25 [00:00<00:20,  1.20it/s]\n",
      "                 Class     Images  Instances      Box(P          R      mAP50  mAP50-95):   8%|▊         | 2/25 [00:01<00:16,  1.41it/s]\n",
      "                 Class     Images  Instances      Box(P          R      mAP50  mAP50-95):  12%|█▏        | 3/25 [00:02<00:15,  1.38it/s]\n",
      "                 Class     Images  Instances      Box(P          R      mAP50  mAP50-95):  16%|█▌        | 4/25 [00:02<00:14,  1.45it/s]\n",
      "                 Class     Images  Instances      Box(P          R      mAP50  mAP50-95):  20%|██        | 5/25 [00:03<00:13,  1.53it/s]\n",
      "                 Class     Images  Instances      Box(P          R      mAP50  mAP50-95):  24%|██▍       | 6/25 [00:04<00:11,  1.60it/s]\n",
      "                 Class     Images  Instances      Box(P          R      mAP50  mAP50-95):  28%|██▊       | 7/25 [00:04<00:11,  1.61it/s]\n",
      "                 Class     Images  Instances      Box(P          R      mAP50  mAP50-95):  32%|███▏      | 8/25 [00:05<00:10,  1.64it/s]\n",
      "                 Class     Images  Instances      Box(P          R      mAP50  mAP50-95):  36%|███▌      | 9/25 [00:05<00:09,  1.66it/s]\n",
      "                 Class     Images  Instances      Box(P          R      mAP50  mAP50-95):  40%|████      | 10/25 [00:06<00:08,  1.69it/s]\n",
      "                 Class     Images  Instances      Box(P          R      mAP50  mAP50-95):  44%|████▍     | 11/25 [00:06<00:08,  1.71it/s]\n",
      "                 Class     Images  Instances      Box(P          R      mAP50  mAP50-95):  48%|████▊     | 12/25 [00:07<00:07,  1.72it/s]\n",
      "                 Class     Images  Instances      Box(P          R      mAP50  mAP50-95):  52%|█████▏    | 13/25 [00:08<00:07,  1.71it/s]\n",
      "                 Class     Images  Instances      Box(P          R      mAP50  mAP50-95):  56%|█████▌    | 14/25 [00:08<00:06,  1.73it/s]\n",
      "                 Class     Images  Instances      Box(P          R      mAP50  mAP50-95):  60%|██████    | 15/25 [00:09<00:05,  1.75it/s]\n",
      "                 Class     Images  Instances      Box(P          R      mAP50  mAP50-95):  64%|██████▍   | 16/25 [00:09<00:05,  1.75it/s]\n",
      "                 Class     Images  Instances      Box(P          R      mAP50  mAP50-95):  68%|██████▊   | 17/25 [00:10<00:04,  1.75it/s]\n",
      "                 Class     Images  Instances      Box(P          R      mAP50  mAP50-95):  72%|███████▏  | 18/25 [00:10<00:04,  1.74it/s]\n",
      "                 Class     Images  Instances      Box(P          R      mAP50  mAP50-95):  76%|███████▌  | 19/25 [00:11<00:03,  1.76it/s]\n",
      "                 Class     Images  Instances      Box(P          R      mAP50  mAP50-95):  80%|████████  | 20/25 [00:12<00:02,  1.75it/s]\n",
      "                 Class     Images  Instances      Box(P          R      mAP50  mAP50-95):  84%|████████▍ | 21/25 [00:12<00:02,  1.75it/s]\n",
      "                 Class     Images  Instances      Box(P          R      mAP50  mAP50-95):  88%|████████▊ | 22/25 [00:13<00:01,  1.76it/s]\n",
      "                 Class     Images  Instances      Box(P          R      mAP50  mAP50-95):  92%|█████████▏| 23/25 [00:13<00:01,  1.79it/s]\n",
      "                 Class     Images  Instances      Box(P          R      mAP50  mAP50-95):  96%|█████████▌| 24/25 [00:14<00:00,  1.81it/s]\n",
      "                 Class     Images  Instances      Box(P          R      mAP50  mAP50-95): 100%|██████████| 25/25 [00:15<00:00,  1.15it/s]\n",
      "                 Class     Images  Instances      Box(P          R      mAP50  mAP50-95): 100%|██████████| 25/25 [00:15<00:00,  1.57it/s]\n"
     ]
    }
   ],
   "source": [
    "!yolo val model=yolov8n.pt data=data.yaml"
   ]
  },
  {
   "cell_type": "code",
   "execution_count": 50,
   "metadata": {},
   "outputs": [
    {
     "name": "stdout",
     "output_type": "stream",
     "text": [
      "Ultralytics YOLOv8.1.26 🚀 Python-3.11.8 torch-2.2.1+cu121 CPU (AMD Ryzen 7 5700X 8-Core Processor)\n",
      "Model summary (fused): 168 layers, 3005843 parameters, 0 gradients, 8.1 GFLOPs\n"
     ]
    },
    {
     "name": "stderr",
     "output_type": "stream",
     "text": [
      "\u001b[34m\u001b[1mval: \u001b[0mScanning C:\\Users\\izzyj\\Downloads\\datasets\\valid\\labels.cache... 400 images, 0 backgrounds, 0 corrupt: 100%|██████████| 400/400 [00:00<?, ?it/s]\n",
      "                 Class     Images  Instances      Box(P          R      mAP50  mAP50-95): 100%|██████████| 25/25 [00:15<00:00,  1.63it/s]\n"
     ]
    },
    {
     "name": "stdout",
     "output_type": "stream",
     "text": [
      "                   all        400       1291      0.837      0.618        0.7      0.347\n",
      "Speed: 0.7ms preprocess, 31.2ms inference, 0.0ms loss, 0.3ms postprocess per image\n",
      "Results saved to \u001b[1mruns\\detect\\train222\u001b[0m\n"
     ]
    },
    {
     "data": {
      "text/plain": [
       "0.6183997211378479"
      ]
     },
     "execution_count": 50,
     "metadata": {},
     "output_type": "execute_result"
    }
   ],
   "source": [
    "metrics = model.val()  # no arguments needed, dataset and settings remembered\n",
    "metrics.box.map    # map50-95\n",
    "metrics.box.map50  # map50\n",
    "metrics.box.map75  # map75\n",
    "metrics.box.maps   # a list contains map50-95 of each category\n",
    "metrics.box.mp    # P\n",
    "metrics.box.mr    # R"
   ]
  }
 ],
 "metadata": {
  "kernelspec": {
   "display_name": "Python 3",
   "language": "python",
   "name": "python3"
  },
  "language_info": {
   "codemirror_mode": {
    "name": "ipython",
    "version": 3
   },
   "file_extension": ".py",
   "mimetype": "text/x-python",
   "name": "python",
   "nbconvert_exporter": "python",
   "pygments_lexer": "ipython3",
   "version": "3.11.8"
  }
 },
 "nbformat": 4,
 "nbformat_minor": 2
}
